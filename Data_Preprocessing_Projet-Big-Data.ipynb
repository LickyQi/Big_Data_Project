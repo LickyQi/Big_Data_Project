{
 "cells": [
  {
   "cell_type": "markdown",
   "metadata": {},
   "source": [
    "Data Preprocessing & Model Training"
   ]
  },
  {
   "cell_type": "markdown",
   "metadata": {},
   "source": [
    " ***Preprocessing***"
   ]
  },
  {
   "cell_type": "code",
   "execution_count": 6,
   "metadata": {},
   "outputs": [],
   "source": [
    "import numpy as np\n",
    "import pandas as pd"
   ]
  },
  {
   "cell_type": "code",
   "execution_count": 7,
   "metadata": {},
   "outputs": [],
   "source": [
    "x_train = pd.read_csv('train.csv')\n",
    "x_predict = pd.read_csv('predict.csv')"
   ]
  },
  {
   "cell_type": "code",
   "execution_count": 8,
   "metadata": {},
   "outputs": [],
   "source": [
    "# Separation des labels\n",
    "y_train = x_train['Response']\n",
    "\n",
    "del x_train['Response']\n",
    "\n"
   ]
  },
  {
   "cell_type": "markdown",
   "metadata": {},
   "source": [
    "*** MISSING VALUE***"
   ]
  },
  {
   "cell_type": "code",
   "execution_count": 9,
   "metadata": {},
   "outputs": [],
   "source": [
    "#Supprimer les colonnes non prises en compte pour la suite\n",
    "x_train= x_train.drop(columns =['Medical_History_10','Medical_History_32','Medical_History_24','InsuredInfo_8','Medical_History_15','InsuredInfo_9','Family_Hist_5','Family_Hist_3'])"
   ]
  },
  {
   "cell_type": "code",
   "execution_count": 11,
   "metadata": {},
   "outputs": [
    {
     "data": {
      "text/plain": [
       "array([    0,     0,     0,     0,     0,     0,     0,     0,     0,\n",
       "           0,     0,    19,     0,     0,  6717,     0, 10753,     0,\n",
       "           0,     0,     0,     0,     0,     0,     0,     0,     0,\n",
       "           0, 25180,     0,     0,     0,     0, 28422, 19029,  8809,\n",
       "           0,     0,     0,     0,     0,     0,     0,     0,     0,\n",
       "           0,     0,     0,     0,     0,     0,     0,     0,     0,\n",
       "           0,     0,     0,     0,     0,     0,     0,     0,     0,\n",
       "           0,     0,     0,     0,     0,     0,     0,     0,     0,\n",
       "           0,     0,     0,     0,     0,     0,     0,     0,     0,\n",
       "           0,     0,     0,     0,     0,     0,     0,     0,     0,\n",
       "           0,     0,     0,     0,     0,     0,     0,     0,     0,\n",
       "           0,     0,     0,     0,     0,     0,     0,     0,     0,\n",
       "           0,     0,     0,     0,     0,     0,     0,     0,     0,\n",
       "           0,     0,     0], dtype=int64)"
      ]
     },
     "execution_count": 11,
     "metadata": {},
     "output_type": "execute_result"
    }
   ],
   "source": [
    "x_train.isnull().sum().values "
   ]
  },
  {
   "cell_type": "code",
   "execution_count": 12,
   "metadata": {},
   "outputs": [
    {
     "name": "stdout",
     "output_type": "stream",
     "text": [
      "(58881, 120)\n"
     ]
    }
   ],
   "source": [
    "print(x_train.shape)"
   ]
  },
  {
   "cell_type": "code",
   "execution_count": 13,
   "metadata": {},
   "outputs": [],
   "source": [
    "# pour les Missing value , on remplace les nan repalce NaN avec differents methodes:\n",
    "#Imputation of missing value Using (Mean/Median) Values:\n",
    "x_train.fillna(x_train.mean(),inplace=True)\n",
    "x_train=pd.DataFrame(x_train)"
   ]
  },
  {
   "cell_type": "code",
   "execution_count": 22,
   "metadata": {},
   "outputs": [
    {
     "name": "stderr",
     "output_type": "stream",
     "text": [
      "C:\\Users\\Ecopress\\Anaconda3\\lib\\site-packages\\pandas\\core\\generic.py:6130: SettingWithCopyWarning: \n",
      "A value is trying to be set on a copy of a slice from a DataFrame\n",
      "\n",
      "See the caveats in the documentation: http://pandas.pydata.org/pandas-docs/stable/indexing.html#indexing-view-versus-copy\n",
      "  self._update_inplace(new_data)\n"
     ]
    }
   ],
   "source": [
    "#Imputation of missing value using ffill:\n",
    "x_train.fillna(method='bfill',inplace=True)\n",
    "x_train=pd.DataFrame(x_train)"
   ]
  },
  {
   "cell_type": "code",
   "execution_count": 14,
   "metadata": {},
   "outputs": [
    {
     "data": {
      "text/html": [
       "<div>\n",
       "<style scoped>\n",
       "    .dataframe tbody tr th:only-of-type {\n",
       "        vertical-align: middle;\n",
       "    }\n",
       "\n",
       "    .dataframe tbody tr th {\n",
       "        vertical-align: top;\n",
       "    }\n",
       "\n",
       "    .dataframe thead th {\n",
       "        text-align: right;\n",
       "    }\n",
       "</style>\n",
       "<table border=\"1\" class=\"dataframe\">\n",
       "  <thead>\n",
       "    <tr style=\"text-align: right;\">\n",
       "      <th></th>\n",
       "      <th>Product_Info_1</th>\n",
       "      <th>Product_Info_3</th>\n",
       "      <th>Product_Info_4</th>\n",
       "      <th>Product_Info_5</th>\n",
       "      <th>Product_Info_6</th>\n",
       "      <th>Product_Info_7</th>\n",
       "      <th>Ins_Age</th>\n",
       "      <th>Ht</th>\n",
       "      <th>Wt</th>\n",
       "      <th>BMI</th>\n",
       "      <th>...</th>\n",
       "      <th>Medical_Keyword_39</th>\n",
       "      <th>Medical_Keyword_40</th>\n",
       "      <th>Medical_Keyword_41</th>\n",
       "      <th>Medical_Keyword_42</th>\n",
       "      <th>Medical_Keyword_43</th>\n",
       "      <th>Medical_Keyword_44</th>\n",
       "      <th>Medical_Keyword_45</th>\n",
       "      <th>Medical_Keyword_46</th>\n",
       "      <th>Medical_Keyword_47</th>\n",
       "      <th>Medical_Keyword_48</th>\n",
       "    </tr>\n",
       "  </thead>\n",
       "  <tbody>\n",
       "    <tr>\n",
       "      <th>count</th>\n",
       "      <td>58881.000000</td>\n",
       "      <td>58881.000000</td>\n",
       "      <td>58881.000000</td>\n",
       "      <td>58881.000000</td>\n",
       "      <td>58881.000000</td>\n",
       "      <td>58881.000000</td>\n",
       "      <td>58881.000000</td>\n",
       "      <td>58881.000000</td>\n",
       "      <td>58881.000000</td>\n",
       "      <td>58881.000000</td>\n",
       "      <td>...</td>\n",
       "      <td>58881.000000</td>\n",
       "      <td>58881.000000</td>\n",
       "      <td>58881.000000</td>\n",
       "      <td>58881.000000</td>\n",
       "      <td>58881.000000</td>\n",
       "      <td>58881.000000</td>\n",
       "      <td>58881.000000</td>\n",
       "      <td>58881.000000</td>\n",
       "      <td>58881.000000</td>\n",
       "      <td>58881.000000</td>\n",
       "    </tr>\n",
       "    <tr>\n",
       "      <th>mean</th>\n",
       "      <td>1.026426</td>\n",
       "      <td>24.414956</td>\n",
       "      <td>0.328874</td>\n",
       "      <td>2.006946</td>\n",
       "      <td>2.673545</td>\n",
       "      <td>1.043681</td>\n",
       "      <td>0.405636</td>\n",
       "      <td>0.707294</td>\n",
       "      <td>0.292587</td>\n",
       "      <td>0.469455</td>\n",
       "      <td>...</td>\n",
       "      <td>0.013689</td>\n",
       "      <td>0.056979</td>\n",
       "      <td>0.010020</td>\n",
       "      <td>0.045482</td>\n",
       "      <td>0.010649</td>\n",
       "      <td>0.007524</td>\n",
       "      <td>0.013740</td>\n",
       "      <td>0.008475</td>\n",
       "      <td>0.019956</td>\n",
       "      <td>0.054568</td>\n",
       "    </tr>\n",
       "    <tr>\n",
       "      <th>std</th>\n",
       "      <td>0.160400</td>\n",
       "      <td>5.073111</td>\n",
       "      <td>0.282548</td>\n",
       "      <td>0.083055</td>\n",
       "      <td>0.739153</td>\n",
       "      <td>0.292271</td>\n",
       "      <td>0.197211</td>\n",
       "      <td>0.074246</td>\n",
       "      <td>0.089009</td>\n",
       "      <td>0.122168</td>\n",
       "      <td>...</td>\n",
       "      <td>0.116196</td>\n",
       "      <td>0.231805</td>\n",
       "      <td>0.099599</td>\n",
       "      <td>0.208360</td>\n",
       "      <td>0.102642</td>\n",
       "      <td>0.086413</td>\n",
       "      <td>0.116409</td>\n",
       "      <td>0.091668</td>\n",
       "      <td>0.139849</td>\n",
       "      <td>0.227136</td>\n",
       "    </tr>\n",
       "    <tr>\n",
       "      <th>min</th>\n",
       "      <td>1.000000</td>\n",
       "      <td>1.000000</td>\n",
       "      <td>0.000000</td>\n",
       "      <td>2.000000</td>\n",
       "      <td>1.000000</td>\n",
       "      <td>1.000000</td>\n",
       "      <td>0.000000</td>\n",
       "      <td>0.000000</td>\n",
       "      <td>0.000000</td>\n",
       "      <td>0.000000</td>\n",
       "      <td>...</td>\n",
       "      <td>0.000000</td>\n",
       "      <td>0.000000</td>\n",
       "      <td>0.000000</td>\n",
       "      <td>0.000000</td>\n",
       "      <td>0.000000</td>\n",
       "      <td>0.000000</td>\n",
       "      <td>0.000000</td>\n",
       "      <td>0.000000</td>\n",
       "      <td>0.000000</td>\n",
       "      <td>0.000000</td>\n",
       "    </tr>\n",
       "    <tr>\n",
       "      <th>25%</th>\n",
       "      <td>1.000000</td>\n",
       "      <td>26.000000</td>\n",
       "      <td>0.076923</td>\n",
       "      <td>2.000000</td>\n",
       "      <td>3.000000</td>\n",
       "      <td>1.000000</td>\n",
       "      <td>0.238806</td>\n",
       "      <td>0.654545</td>\n",
       "      <td>0.225941</td>\n",
       "      <td>0.385517</td>\n",
       "      <td>...</td>\n",
       "      <td>0.000000</td>\n",
       "      <td>0.000000</td>\n",
       "      <td>0.000000</td>\n",
       "      <td>0.000000</td>\n",
       "      <td>0.000000</td>\n",
       "      <td>0.000000</td>\n",
       "      <td>0.000000</td>\n",
       "      <td>0.000000</td>\n",
       "      <td>0.000000</td>\n",
       "      <td>0.000000</td>\n",
       "    </tr>\n",
       "    <tr>\n",
       "      <th>50%</th>\n",
       "      <td>1.000000</td>\n",
       "      <td>26.000000</td>\n",
       "      <td>0.230769</td>\n",
       "      <td>2.000000</td>\n",
       "      <td>3.000000</td>\n",
       "      <td>1.000000</td>\n",
       "      <td>0.402985</td>\n",
       "      <td>0.709091</td>\n",
       "      <td>0.288703</td>\n",
       "      <td>0.451349</td>\n",
       "      <td>...</td>\n",
       "      <td>0.000000</td>\n",
       "      <td>0.000000</td>\n",
       "      <td>0.000000</td>\n",
       "      <td>0.000000</td>\n",
       "      <td>0.000000</td>\n",
       "      <td>0.000000</td>\n",
       "      <td>0.000000</td>\n",
       "      <td>0.000000</td>\n",
       "      <td>0.000000</td>\n",
       "      <td>0.000000</td>\n",
       "    </tr>\n",
       "    <tr>\n",
       "      <th>75%</th>\n",
       "      <td>1.000000</td>\n",
       "      <td>26.000000</td>\n",
       "      <td>0.487179</td>\n",
       "      <td>2.000000</td>\n",
       "      <td>3.000000</td>\n",
       "      <td>1.000000</td>\n",
       "      <td>0.567164</td>\n",
       "      <td>0.763636</td>\n",
       "      <td>0.345188</td>\n",
       "      <td>0.532858</td>\n",
       "      <td>...</td>\n",
       "      <td>0.000000</td>\n",
       "      <td>0.000000</td>\n",
       "      <td>0.000000</td>\n",
       "      <td>0.000000</td>\n",
       "      <td>0.000000</td>\n",
       "      <td>0.000000</td>\n",
       "      <td>0.000000</td>\n",
       "      <td>0.000000</td>\n",
       "      <td>0.000000</td>\n",
       "      <td>0.000000</td>\n",
       "    </tr>\n",
       "    <tr>\n",
       "      <th>max</th>\n",
       "      <td>2.000000</td>\n",
       "      <td>38.000000</td>\n",
       "      <td>1.000000</td>\n",
       "      <td>3.000000</td>\n",
       "      <td>3.000000</td>\n",
       "      <td>3.000000</td>\n",
       "      <td>1.000000</td>\n",
       "      <td>1.000000</td>\n",
       "      <td>1.000000</td>\n",
       "      <td>1.000000</td>\n",
       "      <td>...</td>\n",
       "      <td>1.000000</td>\n",
       "      <td>1.000000</td>\n",
       "      <td>1.000000</td>\n",
       "      <td>1.000000</td>\n",
       "      <td>1.000000</td>\n",
       "      <td>1.000000</td>\n",
       "      <td>1.000000</td>\n",
       "      <td>1.000000</td>\n",
       "      <td>1.000000</td>\n",
       "      <td>1.000000</td>\n",
       "    </tr>\n",
       "  </tbody>\n",
       "</table>\n",
       "<p>8 rows × 118 columns</p>\n",
       "</div>"
      ],
      "text/plain": [
       "       Product_Info_1  Product_Info_3  Product_Info_4  Product_Info_5  \\\n",
       "count    58881.000000    58881.000000    58881.000000    58881.000000   \n",
       "mean         1.026426       24.414956        0.328874        2.006946   \n",
       "std          0.160400        5.073111        0.282548        0.083055   \n",
       "min          1.000000        1.000000        0.000000        2.000000   \n",
       "25%          1.000000       26.000000        0.076923        2.000000   \n",
       "50%          1.000000       26.000000        0.230769        2.000000   \n",
       "75%          1.000000       26.000000        0.487179        2.000000   \n",
       "max          2.000000       38.000000        1.000000        3.000000   \n",
       "\n",
       "       Product_Info_6  Product_Info_7       Ins_Age            Ht  \\\n",
       "count    58881.000000    58881.000000  58881.000000  58881.000000   \n",
       "mean         2.673545        1.043681      0.405636      0.707294   \n",
       "std          0.739153        0.292271      0.197211      0.074246   \n",
       "min          1.000000        1.000000      0.000000      0.000000   \n",
       "25%          3.000000        1.000000      0.238806      0.654545   \n",
       "50%          3.000000        1.000000      0.402985      0.709091   \n",
       "75%          3.000000        1.000000      0.567164      0.763636   \n",
       "max          3.000000        3.000000      1.000000      1.000000   \n",
       "\n",
       "                 Wt           BMI  ...  Medical_Keyword_39  \\\n",
       "count  58881.000000  58881.000000  ...        58881.000000   \n",
       "mean       0.292587      0.469455  ...            0.013689   \n",
       "std        0.089009      0.122168  ...            0.116196   \n",
       "min        0.000000      0.000000  ...            0.000000   \n",
       "25%        0.225941      0.385517  ...            0.000000   \n",
       "50%        0.288703      0.451349  ...            0.000000   \n",
       "75%        0.345188      0.532858  ...            0.000000   \n",
       "max        1.000000      1.000000  ...            1.000000   \n",
       "\n",
       "       Medical_Keyword_40  Medical_Keyword_41  Medical_Keyword_42  \\\n",
       "count        58881.000000        58881.000000        58881.000000   \n",
       "mean             0.056979            0.010020            0.045482   \n",
       "std              0.231805            0.099599            0.208360   \n",
       "min              0.000000            0.000000            0.000000   \n",
       "25%              0.000000            0.000000            0.000000   \n",
       "50%              0.000000            0.000000            0.000000   \n",
       "75%              0.000000            0.000000            0.000000   \n",
       "max              1.000000            1.000000            1.000000   \n",
       "\n",
       "       Medical_Keyword_43  Medical_Keyword_44  Medical_Keyword_45  \\\n",
       "count        58881.000000        58881.000000        58881.000000   \n",
       "mean             0.010649            0.007524            0.013740   \n",
       "std              0.102642            0.086413            0.116409   \n",
       "min              0.000000            0.000000            0.000000   \n",
       "25%              0.000000            0.000000            0.000000   \n",
       "50%              0.000000            0.000000            0.000000   \n",
       "75%              0.000000            0.000000            0.000000   \n",
       "max              1.000000            1.000000            1.000000   \n",
       "\n",
       "       Medical_Keyword_46  Medical_Keyword_47  Medical_Keyword_48  \n",
       "count        58881.000000        58881.000000        58881.000000  \n",
       "mean             0.008475            0.019956            0.054568  \n",
       "std              0.091668            0.139849            0.227136  \n",
       "min              0.000000            0.000000            0.000000  \n",
       "25%              0.000000            0.000000            0.000000  \n",
       "50%              0.000000            0.000000            0.000000  \n",
       "75%              0.000000            0.000000            0.000000  \n",
       "max              1.000000            1.000000            1.000000  \n",
       "\n",
       "[8 rows x 118 columns]"
      ]
     },
     "execution_count": 14,
     "metadata": {},
     "output_type": "execute_result"
    }
   ],
   "source": [
    "x_train.describe()"
   ]
  },
  {
   "cell_type": "code",
   "execution_count": 15,
   "metadata": {},
   "outputs": [
    {
     "name": "stdout",
     "output_type": "stream",
     "text": [
      "[0 0 0 0 0 0 0 0 0 0 0 0 0 0 0 0 0 0 0 0 0 0 0 0 0 0 0 0 0 0 0 0 0 0 0 0 0\n",
      " 0 0 0 0 0 0 0 0 0 0 0 0 0 0 0 0 0 0 0 0 0 0 0 0 0 0 0 0 0 0 0 0 0 0 0 0 0\n",
      " 0 0 0 0 0 0 0 0 0 0 0 0 0 0 0 0 0 0 0 0 0 0 0 0 0 0 0 0 0 0 0 0 0 0 0 0 0\n",
      " 0 0 0 0 0 0 0 0 0]\n"
     ]
    }
   ],
   "source": [
    "print(x_train.isnull().sum().values)"
   ]
  },
  {
   "cell_type": "code",
   "execution_count": 16,
   "metadata": {},
   "outputs": [],
   "source": [
    "#on fait la meme chose avec les donnees du predict\n",
    "#Supprimer les colonnes non prises en compte pour la suite(on plus de 50% en taux de valeurs manquantes)\n",
    "x_predict= x_predict.drop(columns =['Medical_History_10','Medical_History_32','Medical_History_24','InsuredInfo_8','Medical_History_15','InsuredInfo_9','Family_Hist_5','Family_Hist_3'])"
   ]
  },
  {
   "cell_type": "code",
   "execution_count": 17,
   "metadata": {},
   "outputs": [
    {
     "name": "stdout",
     "output_type": "stream",
     "text": [
      "(500, 120)\n"
     ]
    }
   ],
   "source": [
    "# Supprission des memes feature \n",
    "print(x_predict.shape)\n"
   ]
  },
  {
   "cell_type": "code",
   "execution_count": 18,
   "metadata": {},
   "outputs": [],
   "source": [
    "# pour les Missing value , on remplace les nan repalce NaN avec differents methodes:\n",
    "#Imputation of missing value Using (Mean/Median) Values:\n",
    "x_predict.fillna(x_predict.mean(),inplace=True)\n",
    "x_predict=pd.DataFrame(x_predict)\n"
   ]
  },
  {
   "cell_type": "code",
   "execution_count": null,
   "metadata": {},
   "outputs": [],
   "source": [
    "#Imputation of missing value using ffill:\n",
    "x_predict.fillna(method='bfill',inplace=True)\n",
    "x_predict=pd.DataFrame(x_predict)"
   ]
  },
  {
   "cell_type": "code",
   "execution_count": null,
   "metadata": {},
   "outputs": [],
   "source": [
    "#Imputation Using k-NN\n",
    "import sys\n",
    "import impyute as impy\n",
    "from impyute.imputation.cs import fast_knn\n",
    "sys.setrecursionlimit(100000) #Increase the recursion limit of the OS\n",
    "\n",
    "# start the KNN training\n",
    "x_train=fast_knn(x_train.values, k=30)\n",
    "x_train= pd.DataFrame(x_train)"
   ]
  },
  {
   "cell_type": "code",
   "execution_count": 20,
   "metadata": {},
   "outputs": [
    {
     "name": "stdout",
     "output_type": "stream",
     "text": [
      "[0 0 0 0 0 0 0 0 0 0 0 0 0 0 0 0 0 0 0 0 0 0 0 0 0 0 0 0 0 0 0 0 0 0 0 0 0\n",
      " 0 0 0 0 0 0 0 0 0 0 0 0 0 0 0 0 0 0 0 0 0 0 0 0 0 0 0 0 0 0 0 0 0 0 0 0 0\n",
      " 0 0 0 0 0 0 0 0 0 0 0 0 0 0 0 0 0 0 0 0 0 0 0 0 0 0 0 0 0 0 0 0 0 0 0 0 0\n",
      " 0 0 0 0 0 0 0 0 0]\n"
     ]
    }
   ],
   "source": [
    "print(x_predict.isnull().sum().values)"
   ]
  },
  {
   "cell_type": "code",
   "execution_count": null,
   "metadata": {},
   "outputs": [],
   "source": []
  }
 ],
 "metadata": {
  "kernelspec": {
   "display_name": "Python 3",
   "language": "python",
   "name": "python3"
  },
  "language_info": {
   "codemirror_mode": {
    "name": "ipython",
    "version": 3
   },
   "file_extension": ".py",
   "mimetype": "text/x-python",
   "name": "python",
   "nbconvert_exporter": "python",
   "pygments_lexer": "ipython3",
   "version": "3.7.3"
  }
 },
 "nbformat": 4,
 "nbformat_minor": 2
}
