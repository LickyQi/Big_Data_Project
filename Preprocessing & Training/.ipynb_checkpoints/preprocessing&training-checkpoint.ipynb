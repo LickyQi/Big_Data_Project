{
 "cells": [
  {
   "cell_type": "markdown",
   "metadata": {},
   "source": [
    "Prétraitement des données & formation sur les modèles"
   ]
  },
  {
   "cell_type": "code",
   "execution_count": 18,
   "metadata": {},
   "outputs": [],
   "source": [
    "import numpy as np\n",
    "import pandas as pd\n",
    "\n",
    "X_train = pd.read_csv('../data_input/train.csv')\n",
    "X_predict = pd.read_csv('../data_input/predict.csv')"
   ]
  },
  {
   "cell_type": "markdown",
   "metadata": {},
   "source": [
    "1. Traitement les données en double"
   ]
  },
  {
   "cell_type": "code",
   "execution_count": 19,
   "metadata": {},
   "outputs": [
    {
     "name": "stdout",
     "output_type": "stream",
     "text": [
      "(58864, 129)\n",
      "(500, 128)\n"
     ]
    }
   ],
   "source": [
    "# Supprimer les lignes en double\n",
    "X_train=X_train.drop_duplicates()\n",
    "print(X_train.shape)\n",
    "\n",
    "X_predict=X_predict.drop_duplicates()\n",
    "print(X_predict.shape)"
   ]
  },
  {
   "cell_type": "markdown",
   "metadata": {},
   "source": [
    "2. Traitement de la valeur manquante"
   ]
  },
  {
   "cell_type": "code",
   "execution_count": 20,
   "metadata": {},
   "outputs": [],
   "source": [
    "# Séparez les labels\n",
    "y_train = X_train['Response']\n",
    "del X_train['Response']"
   ]
  },
  {
   "cell_type": "code",
   "execution_count": 21,
   "metadata": {},
   "outputs": [],
   "source": [
    "def description(df):\n",
    "    summary = pd.DataFrame(df.dtypes,columns=['dtypes'])\n",
    "    summary = summary.reset_index()\n",
    "    summary['Name'] = summary['index']\n",
    "    summary = summary[['Name','dtypes']]\n",
    "    # Comptez le nombre de valeurs manquantes dans chaque colonne\n",
    "    summary['Missing'] = df.isnull().sum().values    \n",
    "    # Comptez le nombre de valeurs différentes dans chaque colonne, à l'exclusion des valeurs nulles\n",
    "    summary['Uniques'] = df.nunique().values\n",
    "    return summary"
   ]
  },
  {
   "cell_type": "code",
   "execution_count": 22,
   "metadata": {},
   "outputs": [
    {
     "name": "stdout",
     "output_type": "stream",
     "text": [
      "                   Name   Missing\n",
      "48   Medical_History_10  0.990639\n",
      "70   Medical_History_32  0.981313\n",
      "62   Medical_History_24  0.935954\n",
      "24        InsuredInfo_8  0.879162\n",
      "53   Medical_History_15  0.750917\n",
      "25        InsuredInfo_9  0.749354\n",
      "38        Family_Hist_5  0.703979\n",
      "36        Family_Hist_3  0.576651\n",
      "35        Family_Hist_2  0.482689\n",
      "30  Insurance_History_5  0.427715\n",
      "37        Family_Hist_4  0.323203\n",
      "16    Employment_Info_6  0.182658\n",
      "39    Medical_History_1  0.149650\n",
      "14    Employment_Info_4  0.114077\n",
      "11    Employment_Info_1  0.000323\n",
      "24         InsuredInfo_8\n",
      "25         InsuredInfo_9\n",
      "38         Family_Hist_5\n",
      "48    Medical_History_10\n",
      "53    Medical_History_15\n",
      "62    Medical_History_24\n",
      "70    Medical_History_32\n",
      "Name: Name, dtype: object\n"
     ]
    }
   ],
   "source": [
    "des_train = description(X_train)\n",
    "des_train['Missing'] = des_train['Missing']/X_train.shape[0]\n",
    "print(des_train[des_train['Missing']!=0].sort_values(by=['Missing'],ascending=False)[['Name','Missing']])\n",
    "\n",
    "# si le taux manquant > 70%, nous supprimons cette caractère\n",
    "cols = des_train[des_train['Missing']>=0.7]['Name']\n",
    "\n",
    "print (cols)\n",
    "\n",
    "X_train = X_train.drop(cols, axis = 1)"
   ]
  },
  {
   "cell_type": "code",
   "execution_count": 23,
   "metadata": {},
   "outputs": [
    {
     "name": "stdout",
     "output_type": "stream",
     "text": [
      "(58864, 121)\n"
     ]
    }
   ],
   "source": [
    "print(X_train.shape)"
   ]
  },
  {
   "cell_type": "code",
   "execution_count": 24,
   "metadata": {},
   "outputs": [
    {
     "name": "stdout",
     "output_type": "stream",
     "text": [
      "[0 0 0 0 0 0 0 0 0 0 0 0 0 0 0 0 0 0 0 0 0 0 0 0 0 0 0 0 0 0 0 0 0 0 0 0 0\n",
      " 0 0 0 0 0 0 0 0 0 0 0 0 0 0 0 0 0 0 0 0 0 0 0 0 0 0 0 0 0 0 0 0 0 0 0 0 0\n",
      " 0 0 0 0 0 0 0 0 0 0 0 0 0 0 0 0 0 0 0 0 0 0 0 0 0 0 0 0 0 0 0 0 0 0 0 0 0\n",
      " 0 0 0 0 0 0 0 0 0 0]\n"
     ]
    }
   ],
   "source": [
    "# pour l'autre caractères manquante, nous remplaçons NaN par la valeur de Moyenne\n",
    "cols = des_train[des_train['Missing']<0.7]['Name']\n",
    "X_train[cols] = X_train[cols].fillna(X_train[cols].mean())\n",
    "\n",
    "print(X_train.isnull().sum().values)"
   ]
  },
  {
   "cell_type": "code",
   "execution_count": 25,
   "metadata": {},
   "outputs": [
    {
     "name": "stdout",
     "output_type": "stream",
     "text": [
      "                   Name  Missing\n",
      "48   Medical_History_10    0.988\n",
      "70   Medical_History_32    0.986\n",
      "62   Medical_History_24    0.942\n",
      "24        InsuredInfo_8    0.902\n",
      "53   Medical_History_15    0.756\n",
      "25        InsuredInfo_9    0.742\n",
      "38        Family_Hist_5    0.718\n",
      "36        Family_Hist_3    0.578\n",
      "35        Family_Hist_2    0.468\n",
      "30  Insurance_History_5    0.432\n",
      "37        Family_Hist_4    0.310\n",
      "16    Employment_Info_6    0.202\n",
      "39    Medical_History_1    0.160\n",
      "14    Employment_Info_4    0.124\n",
      "*****Caractère supprimée*****\n",
      "24         InsuredInfo_8\n",
      "25         InsuredInfo_9\n",
      "38         Family_Hist_5\n",
      "48    Medical_History_10\n",
      "53    Medical_History_15\n",
      "62    Medical_History_24\n",
      "70    Medical_History_32\n",
      "Name: Name, dtype: object\n"
     ]
    }
   ],
   "source": [
    "des_predict = description(X_predict)\n",
    "\n",
    "des_predict['Missing'] = des_predict['Missing']/X_predict.shape[0]\n",
    "print(des_predict[des_predict['Missing']!=0].sort_values(by=['Missing'],ascending=False)[['Name','Missing']])\n",
    "\n",
    "cols = des_predict[des_predict['Missing']>=0.7]['Name']\n",
    "print (\"*****Caractère supprimée*****\")\n",
    "print (cols)\n",
    "\n",
    "X_predict = X_predict.drop(cols, axis = 1)"
   ]
  },
  {
   "cell_type": "code",
   "execution_count": 26,
   "metadata": {},
   "outputs": [
    {
     "name": "stdout",
     "output_type": "stream",
     "text": [
      "(500, 121)\n"
     ]
    }
   ],
   "source": [
    "print(X_predict.shape)\n",
    "# on laisse tomber la même caractères !!!"
   ]
  },
  {
   "cell_type": "code",
   "execution_count": 27,
   "metadata": {},
   "outputs": [
    {
     "name": "stdout",
     "output_type": "stream",
     "text": [
      "[0 0 0 0 0 0 0 0 0 0 0 0 0 0 0 0 0 0 0 0 0 0 0 0 0 0 0 0 0 0 0 0 0 0 0 0 0\n",
      " 0 0 0 0 0 0 0 0 0 0 0 0 0 0 0 0 0 0 0 0 0 0 0 0 0 0 0 0 0 0 0 0 0 0 0 0 0\n",
      " 0 0 0 0 0 0 0 0 0 0 0 0 0 0 0 0 0 0 0 0 0 0 0 0 0 0 0 0 0 0 0 0 0 0 0 0 0\n",
      " 0 0 0 0 0 0 0 0 0 0]\n"
     ]
    }
   ],
   "source": [
    "cols = des_predict[des_predict['Missing']<0.7]['Name']\n",
    "X_predict[cols] = X_predict[cols].fillna(X_predict[cols].mean())\n",
    "print(X_predict.isnull().sum().values)"
   ]
  },
  {
   "cell_type": "markdown",
   "metadata": {},
   "source": [
    "3. Normalisation et standardisation des données"
   ]
  },
  {
   "cell_type": "code",
   "execution_count": 28,
   "metadata": {},
   "outputs": [
    {
     "name": "stdout",
     "output_type": "stream",
     "text": [
      "<class 'pandas.core.frame.DataFrame'>\n",
      "Int64Index: 58864 entries, 0 to 58880\n",
      "Columns: 121 entries, Product_Info_1 to Medical_Keyword_48\n",
      "dtypes: float64(13), int64(106), object(2)\n",
      "memory usage: 54.8+ MB\n",
      "              Name  dtypes  Missing  Uniques\n",
      "1   Product_Info_2  object        0       19\n",
      "23   InsuredInfo_7  object        0        2\n"
     ]
    }
   ],
   "source": [
    "X_train.info()\n",
    "\n",
    "des = description(X_train)\n",
    "print(des[des['dtypes']=='object'])"
   ]
  },
  {
   "cell_type": "code",
   "execution_count": 29,
   "metadata": {},
   "outputs": [],
   "source": [
    "# Numérisation des caractères : one-hot code\n",
    "from sklearn.feature_extraction import DictVectorizer\n",
    "\n",
    "vec = DictVectorizer(sparse=False)\n",
    "\n",
    "X_train = vec.fit_transform(X_train.to_dict(orient='record'))"
   ]
  },
  {
   "cell_type": "code",
   "execution_count": 30,
   "metadata": {},
   "outputs": [
    {
     "name": "stdout",
     "output_type": "stream",
     "text": [
      "<class 'pandas.core.frame.DataFrame'>\n",
      "Int64Index: 500 entries, 0 to 499\n",
      "Columns: 121 entries, Product_Info_1 to Medical_Keyword_48\n",
      "dtypes: float64(13), int64(106), object(2)\n",
      "memory usage: 476.6+ KB\n",
      "              Name  dtypes  Missing  Uniques\n",
      "1   Product_Info_2  object        0       16\n",
      "23   InsuredInfo_7  object        0        2\n"
     ]
    }
   ],
   "source": [
    "X_predict.info()\n",
    "\n",
    "des = description(X_predict)\n",
    "print(des[des['dtypes']=='object'])"
   ]
  },
  {
   "cell_type": "code",
   "execution_count": 31,
   "metadata": {},
   "outputs": [],
   "source": [
    "X_predict = vec.transform(X_predict.to_dict(orient='record'))"
   ]
  },
  {
   "cell_type": "code",
   "execution_count": 32,
   "metadata": {},
   "outputs": [],
   "source": [
    "# Standardization des données\n",
    "\n",
    "from sklearn.preprocessing import StandardScaler\n",
    "\n",
    "ss= StandardScaler()\n",
    "X_train = ss.fit_transform(X_train)\n",
    "X_predict = ss.transform(X_predict)"
   ]
  },
  {
   "cell_type": "markdown",
   "metadata": {},
   "source": [
    "4. Sélection des caractères"
   ]
  },
  {
   "cell_type": "markdown",
   "metadata": {},
   "source": [
    "5. Formation de modèle"
   ]
  },
  {
   "cell_type": "code",
   "execution_count": 35,
   "metadata": {},
   "outputs": [
    {
     "name": "stderr",
     "output_type": "stream",
     "text": [
      "/usr/local/lib/python3.7/site-packages/pandas/core/series.py:1146: FutureWarning: \n",
      "Passing list-likes to .loc or [] with any missing label will raise\n",
      "KeyError in the future, you can use .reindex() as an alternative.\n",
      "\n",
      "See the documentation here:\n",
      "https://pandas.pydata.org/pandas-docs/stable/user_guide/indexing.html#deprecate-loc-reindex-listlike\n",
      "  return self.loc[key]\n"
     ]
    }
   ],
   "source": [
    "#Split data set\n",
    "'''\n",
    "from sklearn.model_selection import train_test_split\n",
    "\n",
    "digits_data = X_train\n",
    "digits_target = y_train\n",
    "\n",
    "X_train,X_test,y_train,y_test = train_test_split(digits_data,digits_target,test_size=0.2,random_state=42)\n",
    "'''\n",
    "\n",
    "# Parce que le type de distribution label n'est pas uniforme,\n",
    "# j'ai utilisé l'échantillonnage stratifié\n",
    "\n",
    "digits_data = X_train\n",
    "digits_target = y_train\n",
    "\n",
    "from sklearn.model_selection import StratifiedShuffleSplit\n",
    "\n",
    "split = StratifiedShuffleSplit(n_splits=1, test_size=0.25, random_state=42)\n",
    "\n",
    "for train_index, test_index in split.split(digits_data, digits_target):\n",
    "    X_train, X_test = digits_data[train_index], digits_data[test_index]\n",
    "    y_train, y_test = digits_target[train_index], digits_target[test_index]"
   ]
  },
  {
   "cell_type": "markdown",
   "metadata": {},
   "source": [
    "PCA dimensionality reduction"
   ]
  },
  {
   "cell_type": "code",
   "execution_count": null,
   "metadata": {},
   "outputs": [],
   "source": [
    "from sklearn.decomposition import PCA\n",
    "\n",
    "estimator = PCA(n_components=100)\n",
    "pca_X_train = estimator.fit_transform(X_train)\n",
    "pca_X_test = estimator.transform(X_test)"
   ]
  },
  {
   "cell_type": "markdown",
   "metadata": {},
   "source": [
    "5.1 LinearSVC"
   ]
  },
  {
   "cell_type": "code",
   "execution_count": 78,
   "metadata": {},
   "outputs": [],
   "source": [
    "from sklearn.svm import LinearSVC\n",
    "\n",
    "lsvc = LinearSVC()\n",
    "lsvc.fit(X_train,y_train)\n",
    "\n",
    "y_predict = lsvc.predict(X_test)\n",
    "\n",
    "print(lsvc.score(X_test,y_test))\n",
    "\n",
    "from sklearn.metrics import classification_report\n",
    "\n",
    "print(classification_report(y_test,y_predict))"
   ]
  },
  {
   "cell_type": "code",
   "execution_count": null,
   "metadata": {},
   "outputs": [],
   "source": [
    "lsvc.fit(pca_X_train,y_train)\n",
    "\n",
    "pca_y_predict = lsvc.predict(pca_X_test)\n",
    "\n",
    "print(lsvc.score(pca_X_test,y_test))\n",
    "\n",
    "from sklearn.metrics import classification_report\n",
    "\n",
    "print(classification_report(y_test,pca_y_predict))"
   ]
  },
  {
   "cell_type": "markdown",
   "metadata": {},
   "source": [
    "5.2 GBDT"
   ]
  },
  {
   "cell_type": "code",
   "execution_count": 80,
   "metadata": {},
   "outputs": [
    {
     "name": "stdout",
     "output_type": "stream",
     "text": [
      "0.5454792473337409\n",
      "              precision    recall  f1-score   support\n",
      "\n",
      "           1       0.51      0.24      0.33      1540\n",
      "           2       0.46      0.26      0.33      1624\n",
      "           3       0.19      0.03      0.05       252\n",
      "           4       0.35      0.12      0.18       355\n",
      "           5       0.57      0.56      0.57      1347\n",
      "           6       0.41      0.52      0.46      2784\n",
      "           7       0.45      0.35      0.39      1987\n",
      "           8       0.66      0.89      0.75      4832\n",
      "\n",
      "    accuracy                           0.55     14721\n",
      "   macro avg       0.45      0.37      0.38     14721\n",
      "weighted avg       0.52      0.55      0.52     14721\n",
      "\n"
     ]
    }
   ],
   "source": [
    "from sklearn.ensemble import GradientBoostingClassifier\n",
    "gbc = GradientBoostingClassifier()\n",
    "gbc.fit(X_train, y_train)\n",
    "gbc_y_predict = gbc.predict(X_test)\n",
    "\n",
    "print(gbc.score(X_test, y_test))\n",
    "\n",
    "from sklearn.metrics import classification_report\n",
    " \n",
    "print(classification_report(y_test, gbc_y_predict))"
   ]
  },
  {
   "cell_type": "code",
   "execution_count": 22,
   "metadata": {},
   "outputs": [
    {
     "name": "stdout",
     "output_type": "stream",
     "text": [
      "0.4677761738982763\n",
      "              precision    recall  f1-score   support\n",
      "\n",
      "           1       0.40      0.26      0.31      1241\n",
      "           2       0.38      0.21      0.27      1336\n",
      "           3       0.11      0.02      0.03       206\n",
      "           4       0.17      0.03      0.05       279\n",
      "           5       0.45      0.28      0.35      1060\n",
      "           6       0.33      0.41      0.37      2186\n",
      "           7       0.35      0.21      0.26      1575\n",
      "           8       0.58      0.87      0.69      3894\n",
      "\n",
      "    accuracy                           0.47     11777\n",
      "   macro avg       0.35      0.28      0.29     11777\n",
      "weighted avg       0.43      0.47      0.43     11777\n",
      "\n"
     ]
    }
   ],
   "source": [
    "from sklearn.ensemble import GradientBoostingClassifier\n",
    "gbc = GradientBoostingClassifier()\n",
    "gbc.fit(pca_X_train, y_train)\n",
    "gbc_y_predict = gbc.predict(pca_X_test)\n",
    "\n",
    "print(gbc.score(pca_X_test, y_test))\n",
    "\n",
    "from sklearn.metrics import classification_report\n",
    "\n",
    "print(classification_report(y_test, gbc_y_predict))"
   ]
  },
  {
   "cell_type": "code",
   "execution_count": null,
   "metadata": {},
   "outputs": [],
   "source": []
  }
 ],
 "metadata": {
  "kernelspec": {
   "display_name": "Python 3",
   "language": "python",
   "name": "python3"
  },
  "language_info": {
   "codemirror_mode": {
    "name": "ipython",
    "version": 3
   },
   "file_extension": ".py",
   "mimetype": "text/x-python",
   "name": "python",
   "nbconvert_exporter": "python",
   "pygments_lexer": "ipython3",
   "version": "3.7.6"
  }
 },
 "nbformat": 4,
 "nbformat_minor": 2
}
