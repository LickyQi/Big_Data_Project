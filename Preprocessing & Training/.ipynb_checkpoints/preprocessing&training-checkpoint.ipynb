{
 "cells": [
  {
   "cell_type": "markdown",
   "metadata": {},
   "source": [
    "Prétraitement des données & formation sur les modèles"
   ]
  },
  {
   "cell_type": "code",
   "execution_count": 1,
   "metadata": {},
   "outputs": [],
   "source": [
    "import numpy as np\n",
    "import pandas as pd\n",
    "\n",
    "X_train = pd.read_csv('../data_input/train.csv')\n",
    "X_predict = pd.read_csv('../data_input/predict.csv')"
   ]
  },
  {
   "cell_type": "markdown",
   "metadata": {},
   "source": [
    "1. Traitement les données en double"
   ]
  },
  {
   "cell_type": "code",
   "execution_count": 2,
   "metadata": {},
   "outputs": [
    {
     "name": "stdout",
     "output_type": "stream",
     "text": [
      "(58864, 129)\n",
      "(500, 128)\n"
     ]
    }
   ],
   "source": [
    "# Supprimer les lignes en double\n",
    "X_train=X_train.drop_duplicates()\n",
    "print(X_train.shape)\n",
    "\n",
    "X_predict=X_predict.drop_duplicates()\n",
    "print(X_predict.shape)"
   ]
  },
  {
   "cell_type": "markdown",
   "metadata": {},
   "source": [
    "2. Traitement de la valeur manquante"
   ]
  },
  {
   "cell_type": "code",
   "execution_count": 3,
   "metadata": {},
   "outputs": [],
   "source": [
    "# Séparez les labels\n",
    "y_train = X_train['Response']\n",
    "del X_train['Response']"
   ]
  },
  {
   "cell_type": "code",
   "execution_count": 4,
   "metadata": {},
   "outputs": [],
   "source": [
    "def description(df):\n",
    "    summary = pd.DataFrame(df.dtypes,columns=['dtypes'])\n",
    "    summary = summary.reset_index()\n",
    "    summary['Name'] = summary['index']\n",
    "    summary = summary[['Name','dtypes']]\n",
    "    # Comptez le nombre de valeurs manquantes dans chaque colonne\n",
    "    summary['Missing'] = df.isnull().sum().values    \n",
    "    # Comptez le nombre de valeurs différentes dans chaque colonne, à l'exclusion des valeurs nulles\n",
    "    summary['Uniques'] = df.nunique().values\n",
    "    return summary"
   ]
  },
  {
   "cell_type": "code",
   "execution_count": 5,
   "metadata": {},
   "outputs": [
    {
     "name": "stdout",
     "output_type": "stream",
     "text": [
      "                   Name   Missing\n",
      "48   Medical_History_10  0.990639\n",
      "70   Medical_History_32  0.981313\n",
      "62   Medical_History_24  0.935954\n",
      "24        InsuredInfo_8  0.879162\n",
      "53   Medical_History_15  0.750917\n",
      "25        InsuredInfo_9  0.749354\n",
      "38        Family_Hist_5  0.703979\n",
      "36        Family_Hist_3  0.576651\n",
      "35        Family_Hist_2  0.482689\n",
      "30  Insurance_History_5  0.427715\n",
      "37        Family_Hist_4  0.323203\n",
      "16    Employment_Info_6  0.182658\n",
      "39    Medical_History_1  0.149650\n",
      "14    Employment_Info_4  0.114077\n",
      "11    Employment_Info_1  0.000323\n",
      "24         InsuredInfo_8\n",
      "25         InsuredInfo_9\n",
      "38         Family_Hist_5\n",
      "48    Medical_History_10\n",
      "53    Medical_History_15\n",
      "62    Medical_History_24\n",
      "70    Medical_History_32\n",
      "Name: Name, dtype: object\n"
     ]
    }
   ],
   "source": [
    "des_train = description(X_train)\n",
    "des_train['Missing'] = des_train['Missing']/X_train.shape[0]\n",
    "print(des_train[des_train['Missing']!=0].sort_values(by=['Missing'],ascending=False)[['Name','Missing']])\n",
    "\n",
    "# si le taux manquant > 70%, nous supprimons cette caractère\n",
    "cols = des_train[des_train['Missing']>=0.7]['Name']\n",
    "\n",
    "print (cols)\n",
    "\n",
    "X_train = X_train.drop(cols, axis = 1)"
   ]
  },
  {
   "cell_type": "code",
   "execution_count": 6,
   "metadata": {},
   "outputs": [
    {
     "name": "stdout",
     "output_type": "stream",
     "text": [
      "(58864, 121)\n"
     ]
    }
   ],
   "source": [
    "print(X_train.shape)"
   ]
  },
  {
   "cell_type": "code",
   "execution_count": 7,
   "metadata": {},
   "outputs": [
    {
     "name": "stdout",
     "output_type": "stream",
     "text": [
      "[0 0 0 0 0 0 0 0 0 0 0 0 0 0 0 0 0 0 0 0 0 0 0 0 0 0 0 0 0 0 0 0 0 0 0 0 0\n",
      " 0 0 0 0 0 0 0 0 0 0 0 0 0 0 0 0 0 0 0 0 0 0 0 0 0 0 0 0 0 0 0 0 0 0 0 0 0\n",
      " 0 0 0 0 0 0 0 0 0 0 0 0 0 0 0 0 0 0 0 0 0 0 0 0 0 0 0 0 0 0 0 0 0 0 0 0 0\n",
      " 0 0 0 0 0 0 0 0 0 0]\n"
     ]
    }
   ],
   "source": [
    "# pour l'autre caractères manquante, nous remplaçons NaN par la valeur de Moyenne\n",
    "cols = des_train[des_train['Missing']<0.7]['Name']\n",
    "X_train[cols] = X_train[cols].fillna(X_train[cols].mean())\n",
    "\n",
    "print(X_train.isnull().sum().values)"
   ]
  },
  {
   "cell_type": "code",
   "execution_count": 8,
   "metadata": {},
   "outputs": [
    {
     "name": "stdout",
     "output_type": "stream",
     "text": [
      "                   Name  Missing\n",
      "48   Medical_History_10    0.988\n",
      "70   Medical_History_32    0.986\n",
      "62   Medical_History_24    0.942\n",
      "24        InsuredInfo_8    0.902\n",
      "53   Medical_History_15    0.756\n",
      "25        InsuredInfo_9    0.742\n",
      "38        Family_Hist_5    0.718\n",
      "36        Family_Hist_3    0.578\n",
      "35        Family_Hist_2    0.468\n",
      "30  Insurance_History_5    0.432\n",
      "37        Family_Hist_4    0.310\n",
      "16    Employment_Info_6    0.202\n",
      "39    Medical_History_1    0.160\n",
      "14    Employment_Info_4    0.124\n",
      "*****Caractère supprimée*****\n",
      "24         InsuredInfo_8\n",
      "25         InsuredInfo_9\n",
      "38         Family_Hist_5\n",
      "48    Medical_History_10\n",
      "53    Medical_History_15\n",
      "62    Medical_History_24\n",
      "70    Medical_History_32\n",
      "Name: Name, dtype: object\n"
     ]
    }
   ],
   "source": [
    "des_predict = description(X_predict)\n",
    "\n",
    "des_predict['Missing'] = des_predict['Missing']/X_predict.shape[0]\n",
    "print(des_predict[des_predict['Missing']!=0].sort_values(by=['Missing'],ascending=False)[['Name','Missing']])\n",
    "\n",
    "cols = des_predict[des_predict['Missing']>=0.7]['Name']\n",
    "print (\"*****Caractère supprimée*****\")\n",
    "print (cols)\n",
    "\n",
    "X_predict = X_predict.drop(cols, axis = 1)"
   ]
  },
  {
   "cell_type": "code",
   "execution_count": 9,
   "metadata": {},
   "outputs": [
    {
     "name": "stdout",
     "output_type": "stream",
     "text": [
      "(500, 121)\n"
     ]
    }
   ],
   "source": [
    "print(X_predict.shape)\n",
    "# on laisse tomber la même caractères !!!"
   ]
  },
  {
   "cell_type": "code",
   "execution_count": 10,
   "metadata": {
    "scrolled": false
   },
   "outputs": [
    {
     "name": "stdout",
     "output_type": "stream",
     "text": [
      "[0 0 0 0 0 0 0 0 0 0 0 0 0 0 0 0 0 0 0 0 0 0 0 0 0 0 0 0 0 0 0 0 0 0 0 0 0\n",
      " 0 0 0 0 0 0 0 0 0 0 0 0 0 0 0 0 0 0 0 0 0 0 0 0 0 0 0 0 0 0 0 0 0 0 0 0 0\n",
      " 0 0 0 0 0 0 0 0 0 0 0 0 0 0 0 0 0 0 0 0 0 0 0 0 0 0 0 0 0 0 0 0 0 0 0 0 0\n",
      " 0 0 0 0 0 0 0 0 0 0]\n"
     ]
    }
   ],
   "source": [
    "cols = des_predict[des_predict['Missing']<0.7]['Name']\n",
    "X_predict[cols] = X_predict[cols].fillna(X_predict[cols].mean())\n",
    "print(X_predict.isnull().sum().values)"
   ]
  },
  {
   "cell_type": "markdown",
   "metadata": {},
   "source": [
    "3. Numérisation des données"
   ]
  },
  {
   "cell_type": "code",
   "execution_count": 11,
   "metadata": {},
   "outputs": [
    {
     "name": "stdout",
     "output_type": "stream",
     "text": [
      "<class 'pandas.core.frame.DataFrame'>\n",
      "Int64Index: 58864 entries, 0 to 58880\n",
      "Columns: 121 entries, Product_Info_1 to Medical_Keyword_48\n",
      "dtypes: float64(13), int64(106), object(2)\n",
      "memory usage: 54.8+ MB\n",
      "              Name  dtypes  Missing  Uniques\n",
      "1   Product_Info_2  object        0       19\n",
      "23   InsuredInfo_7  object        0        2\n"
     ]
    }
   ],
   "source": [
    "X_train.info()\n",
    "\n",
    "des = description(X_train)\n",
    "print(des[des['dtypes']=='object'])"
   ]
  },
  {
   "cell_type": "code",
   "execution_count": 12,
   "metadata": {},
   "outputs": [
    {
     "name": "stderr",
     "output_type": "stream",
     "text": [
      "/usr/local/lib/python3.7/site-packages/sklearn/preprocessing/_encoders.py:415: FutureWarning: The handling of integer data will change in version 0.22. Currently, the categories are determined based on the range [0, max(values)], while in the future they will be determined based on the unique values.\n",
      "If you want the future behaviour and silence this warning, you can specify \"categories='auto'\".\n",
      "In case you used a LabelEncoder before this OneHotEncoder to convert the categories to integers, then you can now use the OneHotEncoder directly.\n",
      "  warnings.warn(msg, FutureWarning)\n",
      "/usr/local/lib/python3.7/site-packages/sklearn/preprocessing/_encoders.py:451: DeprecationWarning: The 'categorical_features' keyword is deprecated in version 0.20 and will be removed in 0.22. You can use the ColumnTransformer instead.\n",
      "  \"use the ColumnTransformer instead.\", DeprecationWarning)\n"
     ]
    }
   ],
   "source": [
    "# Numérisation des caractères : one-hot code\n",
    "# from sklearn.feature_extraction import DictVectorizer\n",
    "\n",
    "# vec = DictVectorizer(sparse=False)\n",
    "\n",
    "# X_train = vec.fit_transform(X_train.to_dict(orient='record'))\n",
    "\n",
    "from sklearn.preprocessing import LabelEncoder\n",
    "label_encode = LabelEncoder()\n",
    "X_train['Product_Info_2'] = label_encode.fit_transform(X_train['Product_Info_2'])\n",
    "X_train['InsuredInfo_7'] = label_encode.fit_transform(X_train['InsuredInfo_7'])\n",
    "\n",
    "from sklearn.preprocessing import OneHotEncoder\n",
    "\n",
    "one_hot = OneHotEncoder(categorical_features=[1,23],sparse=False)\n",
    "\n",
    "X_train = one_hot.fit_transform(X_train)\n"
   ]
  },
  {
   "cell_type": "code",
   "execution_count": 13,
   "metadata": {},
   "outputs": [
    {
     "name": "stdout",
     "output_type": "stream",
     "text": [
      "<class 'pandas.core.frame.DataFrame'>\n",
      "Int64Index: 500 entries, 0 to 499\n",
      "Columns: 121 entries, Product_Info_1 to Medical_Keyword_48\n",
      "dtypes: float64(13), int64(106), object(2)\n",
      "memory usage: 476.6+ KB\n",
      "              Name  dtypes  Missing  Uniques\n",
      "1   Product_Info_2  object        0       16\n",
      "23   InsuredInfo_7  object        0        2\n"
     ]
    }
   ],
   "source": [
    "X_predict.info()\n",
    "\n",
    "des = description(X_predict)\n",
    "print(des[des['dtypes']=='object'])"
   ]
  },
  {
   "cell_type": "code",
   "execution_count": 14,
   "metadata": {
    "scrolled": true
   },
   "outputs": [
    {
     "name": "stderr",
     "output_type": "stream",
     "text": [
      "/usr/local/lib/python3.7/site-packages/sklearn/preprocessing/_encoders.py:415: FutureWarning: The handling of integer data will change in version 0.22. Currently, the categories are determined based on the range [0, max(values)], while in the future they will be determined based on the unique values.\n",
      "If you want the future behaviour and silence this warning, you can specify \"categories='auto'\".\n",
      "In case you used a LabelEncoder before this OneHotEncoder to convert the categories to integers, then you can now use the OneHotEncoder directly.\n",
      "  warnings.warn(msg, FutureWarning)\n",
      "/usr/local/lib/python3.7/site-packages/sklearn/preprocessing/_encoders.py:451: DeprecationWarning: The 'categorical_features' keyword is deprecated in version 0.20 and will be removed in 0.22. You can use the ColumnTransformer instead.\n",
      "  \"use the ColumnTransformer instead.\", DeprecationWarning)\n"
     ]
    }
   ],
   "source": [
    "# X_predict = vec.transform(X_predict.to_dict(orient='record'))\n",
    "\n",
    "X_predict['Product_Info_2'] = label_encode.fit_transform(X_predict['Product_Info_2'])\n",
    "X_predict['InsuredInfo_7'] = label_encode.fit_transform(X_predict['InsuredInfo_7'])\n",
    "\n",
    "X_predict = one_hot.fit_transform(X_predict)"
   ]
  },
  {
   "cell_type": "markdown",
   "metadata": {},
   "source": [
    "4. Sélection des caractères"
   ]
  },
  {
   "cell_type": "code",
   "execution_count": null,
   "metadata": {},
   "outputs": [],
   "source": [
    "from sklearn import feature_selection\n",
    "\n",
    "# si le variance < 0.005 , nous supprimons cette caractère\n",
    "sele = feature_selection.VarianceThreshold(threshold=0.005)\n",
    "\n",
    "X_train = sele.fit_transform(X_train)"
   ]
  },
  {
   "cell_type": "markdown",
   "metadata": {},
   "source": [
    "5. Standardisation des données"
   ]
  },
  {
   "cell_type": "code",
   "execution_count": 15,
   "metadata": {},
   "outputs": [],
   "source": [
    "# Standardization des données\n",
    "\n",
    "from sklearn.preprocessing import StandardScaler\n",
    "\n",
    "ss= StandardScaler()\n",
    "X_train = ss.fit_transform(X_train)\n",
    "X_predict = ss.fit_transform(X_predict)\n"
   ]
  },
  {
   "cell_type": "markdown",
   "metadata": {},
   "source": [
    "6. Formation de modèle"
   ]
  },
  {
   "cell_type": "code",
   "execution_count": 16,
   "metadata": {},
   "outputs": [],
   "source": [
    "#Split data set\n",
    "# Parce que le type de distribution label n'est pas uniforme,\n",
    "# j'ai utilisé l'échantillonnage stratifié\n",
    "\n",
    "\n",
    "from sklearn.model_selection import train_test_split\n",
    "\n",
    "digits_data = X_train\n",
    "digits_target = y_train\n",
    "\n",
    "X_train, X_test, y_train, y_test = train_test_split(digits_data, digits_target ,\n",
    "                                                    test_size=0.2, random_state=42, stratify=digits_target)"
   ]
  },
  {
   "cell_type": "markdown",
   "metadata": {},
   "source": [
    "PCA dimensionality reduction"
   ]
  },
  {
   "cell_type": "code",
   "execution_count": 17,
   "metadata": {},
   "outputs": [
    {
     "data": {
      "text/plain": [
       "'\\nfrom sklearn.decomposition import PCA\\n\\nestimator = PCA(n_components=100)\\npca_X_train = estimator.fit_transform(X_train)\\npca_X_test = estimator.transform(X_test)\\n'"
      ]
     },
     "execution_count": 17,
     "metadata": {},
     "output_type": "execute_result"
    }
   ],
   "source": [
    "'''\n",
    "from sklearn.decomposition import PCA\n",
    "\n",
    "estimator = PCA(n_components=100)\n",
    "pca_X_train = estimator.fit_transform(X_train)\n",
    "pca_X_test = estimator.transform(X_test)\n",
    "'''"
   ]
  },
  {
   "cell_type": "markdown",
   "metadata": {},
   "source": [
    "5.1 LinearSVC"
   ]
  },
  {
   "cell_type": "code",
   "execution_count": 18,
   "metadata": {},
   "outputs": [
    {
     "data": {
      "text/plain": [
       "'\\nfrom sklearn.svm import LinearSVC\\n\\nlsvc = LinearSVC()\\nlsvc.fit(X_train,y_train)\\n\\ny_predict = lsvc.predict(X_test)\\n\\nprint(lsvc.score(X_test,y_test))\\n\\nfrom sklearn.metrics import classification_report\\n\\nprint(classification_report(y_test,y_predict))\\n'"
      ]
     },
     "execution_count": 18,
     "metadata": {},
     "output_type": "execute_result"
    }
   ],
   "source": [
    "'''\n",
    "from sklearn.svm import LinearSVC\n",
    "\n",
    "lsvc = LinearSVC()\n",
    "lsvc.fit(X_train,y_train)\n",
    "\n",
    "y_predict = lsvc.predict(X_test)\n",
    "\n",
    "print(lsvc.score(X_test,y_test))\n",
    "\n",
    "from sklearn.metrics import classification_report\n",
    "\n",
    "print(classification_report(y_test,y_predict))\n",
    "'''"
   ]
  },
  {
   "cell_type": "code",
   "execution_count": 19,
   "metadata": {},
   "outputs": [
    {
     "data": {
      "text/plain": [
       "'\\nlsvc.fit(pca_X_train,y_train)\\n\\npca_y_predict = lsvc.predict(pca_X_test)\\n\\nprint(lsvc.score(pca_X_test,y_test))\\n\\nfrom sklearn.metrics import classification_report\\n\\nprint(classification_report(y_test,pca_y_predict))\\n'"
      ]
     },
     "execution_count": 19,
     "metadata": {},
     "output_type": "execute_result"
    }
   ],
   "source": [
    "'''\n",
    "lsvc.fit(pca_X_train,y_train)\n",
    "\n",
    "pca_y_predict = lsvc.predict(pca_X_test)\n",
    "\n",
    "print(lsvc.score(pca_X_test,y_test))\n",
    "\n",
    "from sklearn.metrics import classification_report\n",
    "\n",
    "print(classification_report(y_test,pca_y_predict))\n",
    "'''"
   ]
  },
  {
   "cell_type": "markdown",
   "metadata": {},
   "source": [
    "5.2 GBDT"
   ]
  },
  {
   "cell_type": "code",
   "execution_count": 20,
   "metadata": {},
   "outputs": [
    {
     "name": "stdout",
     "output_type": "stream",
     "text": [
      "0.543531810073898\n",
      "              precision    recall  f1-score   support\n",
      "\n",
      "           1       0.49      0.23      0.31      1231\n",
      "           2       0.48      0.26      0.34      1299\n",
      "           3       0.27      0.04      0.08       202\n",
      "           4       0.35      0.13      0.19       284\n",
      "           5       0.56      0.57      0.57      1078\n",
      "           6       0.41      0.53      0.46      2227\n",
      "           7       0.46      0.36      0.40      1589\n",
      "           8       0.66      0.88      0.75      3863\n",
      "\n",
      "    accuracy                           0.54     11773\n",
      "   macro avg       0.46      0.37      0.39     11773\n",
      "weighted avg       0.52      0.54      0.51     11773\n",
      "\n"
     ]
    }
   ],
   "source": [
    "from sklearn.ensemble import GradientBoostingClassifier\n",
    "gbc = GradientBoostingClassifier()\n",
    "gbc.fit(X_train, y_train)\n",
    "gbc_y_predict = gbc.predict(X_test)\n",
    "\n",
    "print(gbc.score(X_test, y_test))\n",
    "\n",
    "from sklearn.metrics import classification_report\n",
    " \n",
    "print(classification_report(y_test, gbc_y_predict))"
   ]
  },
  {
   "cell_type": "code",
   "execution_count": 21,
   "metadata": {},
   "outputs": [
    {
     "data": {
      "text/plain": [
       "'\\nfrom sklearn.ensemble import GradientBoostingClassifier\\ngbc = GradientBoostingClassifier()\\ngbc.fit(pca_X_train, y_train)\\ngbc_y_predict = gbc.predict(pca_X_test)\\n\\nprint(gbc.score(pca_X_test, y_test))\\n\\nfrom sklearn.metrics import classification_report\\n\\nprint(classification_report(y_test, gbc_y_predict))\\n'"
      ]
     },
     "execution_count": 21,
     "metadata": {},
     "output_type": "execute_result"
    }
   ],
   "source": [
    "'''\n",
    "from sklearn.ensemble import GradientBoostingClassifier\n",
    "gbc = GradientBoostingClassifier()\n",
    "gbc.fit(pca_X_train, y_train)\n",
    "gbc_y_predict = gbc.predict(pca_X_test)\n",
    "\n",
    "print(gbc.score(pca_X_test, y_test))\n",
    "\n",
    "from sklearn.metrics import classification_report\n",
    "\n",
    "print(classification_report(y_test, gbc_y_predict))\n",
    "'''"
   ]
  },
  {
   "cell_type": "code",
   "execution_count": null,
   "metadata": {},
   "outputs": [],
   "source": []
  }
 ],
 "metadata": {
  "kernelspec": {
   "display_name": "Python 3",
   "language": "python",
   "name": "python3"
  },
  "language_info": {
   "codemirror_mode": {
    "name": "ipython",
    "version": 3
   },
   "file_extension": ".py",
   "mimetype": "text/x-python",
   "name": "python",
   "nbconvert_exporter": "python",
   "pygments_lexer": "ipython3",
   "version": "3.7.6"
  }
 },
 "nbformat": 4,
 "nbformat_minor": 2
}
