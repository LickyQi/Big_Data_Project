{
 "cells": [
  {
   "cell_type": "markdown",
   "metadata": {},
   "source": [
    "Prétraitement des données & formation sur les modèles"
   ]
  },
  {
   "cell_type": "code",
   "execution_count": 1,
   "metadata": {},
   "outputs": [],
   "source": [
    "import numpy as np\n",
    "import pandas as pd\n",
    "\n",
    "X_train = pd.read_csv('../data_input/train.csv')\n",
    "X_predict = pd.read_csv('../data_input/predict.csv')"
   ]
  },
  {
   "cell_type": "markdown",
   "metadata": {},
   "source": [
    "1. Traitement les données en double"
   ]
  },
  {
   "cell_type": "code",
   "execution_count": 2,
   "metadata": {},
   "outputs": [
    {
     "name": "stdout",
     "output_type": "stream",
     "text": [
      "(58864, 129)\n"
     ]
    }
   ],
   "source": [
    "# Supprimer les lignes en double\n",
    "X_train = X_train.drop_duplicates()\n",
    "\n",
    "print(X_train.shape)"
   ]
  },
  {
   "cell_type": "markdown",
   "metadata": {},
   "source": [
    "2. Resampling"
   ]
  },
  {
   "cell_type": "code",
   "execution_count": 3,
   "metadata": {},
   "outputs": [
    {
     "name": "stdout",
     "output_type": "stream",
     "text": [
      "8    19318\n",
      "6    11134\n",
      "7     7944\n",
      "2     6494\n",
      "1     6157\n",
      "5     5389\n",
      "4     1419\n",
      "3     1009\n",
      "Name: Response, dtype: int64\n",
      "8    19318\n",
      "6    11134\n",
      "7     7944\n",
      "4     7062\n",
      "2     6494\n",
      "1     6157\n",
      "5     5389\n",
      "3     4938\n",
      "Name: Response, dtype: int64\n"
     ]
    }
   ],
   "source": [
    "from sklearn.utils import resample\n",
    "from sklearn.utils import resample\n",
    "\n",
    "# Séparation des catégories majoritaires et minoritaires\n",
    "\n",
    "X_train_minority = X_train[(X_train.Response == 3) | (X_train.Response == 4)]\n",
    "X_train_majority = X_train[(X_train.Response == 1) | (X_train.Response == 2) |\n",
    "                           (X_train.Response == 5) | (X_train.Response == 6) |\n",
    "                           (X_train.Response == 7) | (X_train.Response == 8)]\n",
    "\n",
    "print(X_train.Response.value_counts())\n",
    "\n",
    "# Suréchantillonnage des catégories minoritaires\n",
    "X_train_minority_upsampled = resample(X_train_minority, replace=True,\n",
    "                                      n_samples=12000,\n",
    "                                      random_state=42)\n",
    "\n",
    "# Fusionner la plupart des catégories et quelques catégories suréchantillonnées\n",
    "X_train_upsampled = pd.concat([X_train_majority, X_train_minority_upsampled])\n",
    "\n",
    "# Afficher le nouveau numéro de catégorie\n",
    "print(X_train_upsampled.Response.value_counts())\n",
    "\n",
    "X_train = X_train_upsampled"
   ]
  },
  {
   "cell_type": "markdown",
   "metadata": {},
   "source": [
    "3. combiner train et predict"
   ]
  },
  {
   "cell_type": "code",
   "execution_count": 4,
   "metadata": {},
   "outputs": [],
   "source": [
    "all_data = X_train.append(X_predict,sort=False)\n",
    "\n",
    "all_data['Response'].fillna(-1, inplace=True)\n",
    "\n",
    "# corrige le dtype sur la colonne label\n",
    "all_data['Response'] = all_data['Response'].astype(int)"
   ]
  },
  {
   "cell_type": "markdown",
   "metadata": {},
   "source": [
    "4. Traitement de la valeur manquante"
   ]
  },
  {
   "cell_type": "code",
   "execution_count": 5,
   "metadata": {},
   "outputs": [],
   "source": [
    "def description(df):\n",
    "    summary = pd.DataFrame(df.dtypes,columns=['dtypes'])\n",
    "    summary = summary.reset_index()\n",
    "    summary['Name'] = summary['index']\n",
    "    summary = summary[['Name','dtypes']]\n",
    "    # Comptez le nombre de valeurs manquantes dans chaque colonne\n",
    "    summary['Missing'] = df.isnull().sum().values    \n",
    "    # Comptez le nombre de valeurs différentes dans chaque colonne, à l'exclusion des valeurs nulles\n",
    "    summary['Uniques'] = df.nunique().values\n",
    "    return summary"
   ]
  },
  {
   "cell_type": "code",
   "execution_count": 6,
   "metadata": {},
   "outputs": [
    {
     "name": "stdout",
     "output_type": "stream",
     "text": [
      "                   Name   Missing\n",
      "48   Medical_History_10  0.991006\n",
      "70   Medical_History_32  0.976224\n",
      "62   Medical_History_24  0.934417\n",
      "24        InsuredInfo_8  0.881006\n",
      "25        InsuredInfo_9  0.747911\n",
      "38        Family_Hist_5  0.712356\n",
      "53   Medical_History_15  0.661759\n",
      "36        Family_Hist_3  0.587269\n",
      "35        Family_Hist_2  0.472960\n",
      "30  Insurance_History_5  0.441482\n",
      "37        Family_Hist_4  0.315423\n",
      "16    Employment_Info_6  0.189901\n",
      "39    Medical_History_1  0.160381\n",
      "14    Employment_Info_4  0.111872\n",
      "11    Employment_Info_1  0.000276\n",
      "24         InsuredInfo_8\n",
      "25         InsuredInfo_9\n",
      "38         Family_Hist_5\n",
      "48    Medical_History_10\n",
      "62    Medical_History_24\n",
      "70    Medical_History_32\n",
      "Name: Name, dtype: object\n",
      "[0 0 0 0 0 0 0 0 0 0 0 0 0 0 0 0 0 0 0 0 0 0 0 0 0 0 0 0 0 0 0 0 0 0 0 0 0\n",
      " 0 0 0 0 0 0 0 0 0 0 0 0 0 0 0 0 0 0 0 0 0 0 0 0 0 0 0 0 0 0 0 0 0 0 0 0 0\n",
      " 0 0 0 0 0 0 0 0 0 0 0 0 0 0 0 0 0 0 0 0 0 0 0 0 0 0 0 0 0 0 0 0 0 0 0 0 0\n",
      " 0 0 0 0 0 0 0 0 0 0 0 0]\n"
     ]
    }
   ],
   "source": [
    "des_all_data = description(all_data)\n",
    "des_all_data['Missing'] = des_all_data['Missing']/all_data.shape[0]\n",
    "print(des_all_data[des_all_data['Missing']!=0].sort_values(by=['Missing'],ascending=False)[['Name','Missing']])\n",
    "\n",
    "# si le taux manquant > 50%, nous supprimons cette caractère\n",
    "cols = des_all_data[des_all_data['Missing'] >= 0.5]['Name']\n",
    "print(cols)\n",
    "\n",
    "all_data = all_data.drop(cols, axis=1)\n",
    "\n",
    "# pour l'autre caractères manquante, nous remplaçons NaN par la valeur de Moyenne / Median\n",
    "cols = des_all_data[des_all_data['Missing'] < 0.5]['Name']\n",
    "\n",
    "# all_data[cols] = all_data[cols].fillna(all_data[cols].mean())\n",
    "\n",
    "all_data[cols] = all_data[cols].fillna(all_data[cols].median())\n",
    "\n",
    "print(all_data.isnull().sum().values)"
   ]
  },
  {
   "cell_type": "code",
   "execution_count": 7,
   "metadata": {},
   "outputs": [
    {
     "name": "stdout",
     "output_type": "stream",
     "text": [
      "(68936, 123)\n"
     ]
    }
   ],
   "source": [
    "print(all_data.shape)"
   ]
  },
  {
   "cell_type": "markdown",
   "metadata": {},
   "source": [
    "5. create new variables"
   ]
  },
  {
   "cell_type": "code",
   "execution_count": 8,
   "metadata": {},
   "outputs": [],
   "source": [
    "all_data['Product_Info_2_char'] = all_data.Product_Info_2.str[0]\n",
    "all_data['Product_Info_2_num'] = all_data.Product_Info_2.str[1]\n",
    "all_data['BMI_Age'] = all_data['BMI'] * all_data['Ins_Age']\n",
    "med_keyword_columns = all_data.columns[all_data.columns.str.startswith('Medical_Keyword_')]\n",
    "all_data['Med_Keywords_Count'] = all_data[med_keyword_columns].sum(axis=1)"
   ]
  },
  {
   "cell_type": "markdown",
   "metadata": {},
   "source": [
    "6. Standardization des données"
   ]
  },
  {
   "cell_type": "code",
   "execution_count": 9,
   "metadata": {},
   "outputs": [],
   "source": [
    "# variables_discrete = ['Medical_History_1', 'Medical_History_10', 'Medical_History_15',\n",
    "#                       'Medical_History_24', 'Medical_History_32']\n",
    "\n",
    "# Seule cette variable est laissée 'Medical_History_1'\n",
    "\n",
    "from sklearn.preprocessing import StandardScaler\n",
    "\n",
    "ss = StandardScaler()\n",
    "mh1_scale_param = ss.fit(all_data['Medical_History_1'].values.reshape(-1, 1))\n",
    "all_data['Medical_History_1'] = ss.fit_transform(all_data['Medical_History_1'].values.reshape(-1, 1), mh1_scale_param)\n"
   ]
  },
  {
   "cell_type": "markdown",
   "metadata": {},
   "source": [
    "7. Numérisation des données"
   ]
  },
  {
   "cell_type": "code",
   "execution_count": 10,
   "metadata": {},
   "outputs": [
    {
     "name": "stdout",
     "output_type": "stream",
     "text": [
      "<class 'pandas.core.frame.DataFrame'>\n",
      "Int64Index: 68936 entries, 0 to 499\n",
      "Columns: 127 entries, Product_Info_1 to Med_Keywords_Count\n",
      "dtypes: float64(15), int64(108), object(4)\n",
      "memory usage: 67.3+ MB\n",
      "                    Name  dtypes  Missing  Uniques\n",
      "1         Product_Info_2  object        0       19\n",
      "23         InsuredInfo_7  object        0        2\n",
      "123  Product_Info_2_char  object        0        5\n",
      "124   Product_Info_2_num  object        0        8\n"
     ]
    }
   ],
   "source": [
    "all_data.info()\n",
    "\n",
    "des_all_data = description(all_data)\n",
    "print(des_all_data[des_all_data['dtypes']=='object'])\n"
   ]
  },
  {
   "cell_type": "code",
   "execution_count": 11,
   "metadata": {},
   "outputs": [],
   "source": [
    "# Numérisation des caractères : one-hot code\n",
    "\n",
    "from sklearn.preprocessing import LabelEncoder\n",
    "\n",
    "label_encode = LabelEncoder()\n",
    "all_data['Product_Info_2'] = label_encode.fit_transform(all_data['Product_Info_2'])\n",
    "all_data['InsuredInfo_7'] = label_encode.fit_transform(all_data['InsuredInfo_7'])\n",
    "all_data['Product_Info_2_char'] = label_encode.fit_transform(all_data['Product_Info_2_char'])\n",
    "all_data['Product_Info_2_num'] = label_encode.fit_transform(all_data['Product_Info_2_num'])\n"
   ]
  },
  {
   "cell_type": "markdown",
   "metadata": {},
   "source": [
    "8. PCA dimensionality reduction"
   ]
  },
  {
   "cell_type": "code",
   "execution_count": 12,
   "metadata": {},
   "outputs": [],
   "source": [
    "# from sklearn.decomposition import PCA\n",
    "\n",
    "# pca_all_data = all_data\n",
    "# y_pca = pca_all_data['Response']\n",
    "# del pca_all_data['Response']\n",
    "\n",
    "# estimator = PCA(n_components='mle')\n",
    "# pca_all_data = estimator.fit_transform(pca_all_data)\n",
    "\n",
    "# print(estimator.n_components_)\n",
    "\n",
    "# print(estimator.explained_variance_ratio_)\n",
    "\n",
    "# pca_all_data = np.insert(pca_all_data, 125, values=y_pca, axis=1)\n",
    "\n",
    "# all_data = pd.DataFrame(pca_all_data).rename(columns={125: 'Response'})"
   ]
  },
  {
   "cell_type": "markdown",
   "metadata": {},
   "source": [
    "9. Sélection des caractères"
   ]
  },
  {
   "cell_type": "code",
   "execution_count": 13,
   "metadata": {},
   "outputs": [],
   "source": [
    "from sklearn import feature_selection\n",
    "\n",
    "# si le variance < 0.005 , nous supprimons cette caractère\n",
    "sele = feature_selection.VarianceThreshold(threshold=0.005)\n",
    "\n",
    "fs_all_data = all_data\n",
    "y_pca = fs_all_data['Response']\n",
    "del fs_all_data['Response']\n",
    "\n",
    "fs_all_data = sele.fit_transform(fs_all_data)\n",
    "\n",
    "fs_all_data = np.insert(fs_all_data, 121, values=y_pca, axis=1)\n",
    "\n",
    "all_data = pd.DataFrame(fs_all_data).rename(columns={121: 'Response'})"
   ]
  },
  {
   "cell_type": "markdown",
   "metadata": {},
   "source": [
    "10. Partitionnement de l'ensemble de données"
   ]
  },
  {
   "cell_type": "code",
   "execution_count": 14,
   "metadata": {},
   "outputs": [],
   "source": [
    "all_data = pd.DataFrame(all_data)\n",
    "\n",
    "# split train and test\n",
    "train = all_data[all_data['Response'] > 0].copy()\n",
    "predict = all_data[all_data['Response'] < 0].copy()\n",
    "\n",
    "digits_data = train\n",
    "digits_target = train['Response']\n",
    "del digits_data['Response']\n",
    "\n",
    "# Split data set\n",
    "# Parce que le type de distribution label n'est pas uniforme,\n",
    "# j'ai utilisé l'échantillonnage stratifié\n",
    "\n",
    "\n",
    "from sklearn.model_selection import train_test_split\n",
    "X_train, X_test, y_train, y_test = train_test_split(digits_data, digits_target, test_size=0.25,\n",
    "                                                    random_state=42, stratify=digits_target)"
   ]
  },
  {
   "cell_type": "markdown",
   "metadata": {},
   "source": [
    "11. Formation de modèle"
   ]
  },
  {
   "cell_type": "markdown",
   "metadata": {},
   "source": [
    "LinearSVC"
   ]
  },
  {
   "cell_type": "code",
   "execution_count": 15,
   "metadata": {},
   "outputs": [
    {
     "name": "stdout",
     "output_type": "stream",
     "text": [
      "0.43380676836752585\n",
      "              precision    recall  f1-score   support\n",
      "\n",
      "         1.0       0.39      0.13      0.19      1539\n",
      "         2.0       0.25      0.49      0.33      1624\n",
      "         3.0       0.47      0.29      0.36      1234\n",
      "         4.0       0.40      0.75      0.52      1766\n",
      "         5.0       0.39      0.01      0.02      1347\n",
      "         6.0       0.32      0.01      0.02      2784\n",
      "         7.0       0.29      0.33      0.31      1986\n",
      "         8.0       0.58      0.84      0.68      4829\n",
      "\n",
      "    accuracy                           0.43     17109\n",
      "   macro avg       0.39      0.36      0.30     17109\n",
      "weighted avg       0.41      0.43      0.36     17109\n",
      "\n"
     ]
    },
    {
     "name": "stderr",
     "output_type": "stream",
     "text": [
      "/usr/local/lib/python3.7/site-packages/sklearn/svm/base.py:929: ConvergenceWarning: Liblinear failed to converge, increase the number of iterations.\n",
      "  \"the number of iterations.\", ConvergenceWarning)\n"
     ]
    }
   ],
   "source": [
    "from sklearn.svm import LinearSVC\n",
    "\n",
    "lsvc = LinearSVC()\n",
    "lsvc.fit(X_train,y_train)\n",
    "\n",
    "y_predict = lsvc.predict(X_test)\n",
    "\n",
    "print(lsvc.score(X_test,y_test))\n",
    "\n",
    "from sklearn.metrics import classification_report\n",
    "\n",
    "print(classification_report(y_test,y_predict))\n"
   ]
  },
  {
   "cell_type": "markdown",
   "metadata": {},
   "source": [
    "RandomForest"
   ]
  },
  {
   "cell_type": "code",
   "execution_count": 16,
   "metadata": {},
   "outputs": [
    {
     "name": "stderr",
     "output_type": "stream",
     "text": [
      "/usr/local/lib/python3.7/site-packages/sklearn/ensemble/forest.py:245: FutureWarning: The default value of n_estimators will change from 10 in version 0.20 to 100 in 0.22.\n",
      "  \"10 in version 0.20 to 100 in 0.22.\", FutureWarning)\n"
     ]
    },
    {
     "name": "stdout",
     "output_type": "stream",
     "text": [
      "0.5893389444152201\n",
      "              precision    recall  f1-score   support\n",
      "\n",
      "         1.0       0.29      0.22      0.25      1539\n",
      "         2.0       0.30      0.23      0.26      1624\n",
      "         3.0       0.92      0.99      0.95      1234\n",
      "         4.0       0.93      0.98      0.95      1766\n",
      "         5.0       0.52      0.46      0.49      1347\n",
      "         6.0       0.42      0.45      0.43      2784\n",
      "         7.0       0.39      0.29      0.33      1986\n",
      "         8.0       0.68      0.82      0.74      4829\n",
      "\n",
      "    accuracy                           0.59     17109\n",
      "   macro avg       0.56      0.56      0.55     17109\n",
      "weighted avg       0.56      0.59      0.57     17109\n",
      "\n"
     ]
    }
   ],
   "source": [
    "from sklearn.ensemble import RandomForestClassifier\n",
    "rfc = RandomForestClassifier()\n",
    "rfc.fit(X_train, y_train)\n",
    "rfc_y_predict = rfc.predict(X_test)\n",
    "\n",
    "print(rfc.score(X_test, y_test))\n",
    "from sklearn.metrics import classification_report\n",
    "print(classification_report(y_test, rfc_y_predict))"
   ]
  },
  {
   "cell_type": "markdown",
   "metadata": {},
   "source": [
    "GBDT"
   ]
  },
  {
   "cell_type": "code",
   "execution_count": 17,
   "metadata": {},
   "outputs": [
    {
     "name": "stdout",
     "output_type": "stream",
     "text": [
      "0.5933719095213046\n",
      "              precision    recall  f1-score   support\n",
      "\n",
      "         1.0       0.46      0.19      0.27      1539\n",
      "         2.0       0.47      0.24      0.32      1624\n",
      "         3.0       0.82      0.55      0.66      1234\n",
      "         4.0       0.74      0.78      0.76      1766\n",
      "         5.0       0.58      0.55      0.57      1347\n",
      "         6.0       0.48      0.53      0.50      2784\n",
      "         7.0       0.45      0.41      0.43      1986\n",
      "         8.0       0.65      0.90      0.75      4829\n",
      "\n",
      "    accuracy                           0.59     17109\n",
      "   macro avg       0.58      0.52      0.53     17109\n",
      "weighted avg       0.58      0.59      0.57     17109\n",
      "\n"
     ]
    }
   ],
   "source": [
    "from sklearn.ensemble import GradientBoostingClassifier\n",
    "gbc = GradientBoostingClassifier()\n",
    "gbc.fit(X_train, y_train)\n",
    "gbc_y_predict = gbc.predict(X_test)\n",
    "\n",
    "print(gbc.score(X_test, y_test))\n",
    "\n",
    "from sklearn.metrics import classification_report\n",
    " \n",
    "print(classification_report(y_test, gbc_y_predict))"
   ]
  }
 ],
 "metadata": {
  "kernelspec": {
   "display_name": "Python 3",
   "language": "python",
   "name": "python3"
  },
  "language_info": {
   "codemirror_mode": {
    "name": "ipython",
    "version": 3
   },
   "file_extension": ".py",
   "mimetype": "text/x-python",
   "name": "python",
   "nbconvert_exporter": "python",
   "pygments_lexer": "ipython3",
   "version": "3.7.6"
  }
 },
 "nbformat": 4,
 "nbformat_minor": 2
}
