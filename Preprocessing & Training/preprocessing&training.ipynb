{
 "cells": [
  {
   "cell_type": "markdown",
   "metadata": {},
   "source": [
    "Data Preprocessing & Model Training"
   ]
  },
  {
   "cell_type": "markdown",
   "metadata": {},
   "source": [
    "1. Missing value processing"
   ]
  },
  {
   "cell_type": "code",
   "execution_count": 108,
   "metadata": {},
   "outputs": [],
   "source": [
    "import numpy as np\n",
    "import pandas as pd"
   ]
  },
  {
   "cell_type": "code",
   "execution_count": 109,
   "metadata": {},
   "outputs": [],
   "source": [
    "X_train = pd.read_csv('../data_input/train.csv')\n",
    "X_predict = pd.read_csv('../data_input/predict.csv')"
   ]
  },
  {
   "cell_type": "code",
   "execution_count": 110,
   "metadata": {},
   "outputs": [],
   "source": [
    "# Separate the labels\n",
    "y_train = X_train['Response']\n",
    "del X_train['Response']"
   ]
  },
  {
   "cell_type": "code",
   "execution_count": 111,
   "metadata": {},
   "outputs": [],
   "source": [
    "def description(df):\n",
    "    summary = pd.DataFrame(df.dtypes,columns=['dtypes'])\n",
    "    summary = summary.reset_index()\n",
    "    summary['Name'] = summary['index']\n",
    "    summary = summary[['Name','dtypes']]\n",
    "    # Count the number of missing values in each column\n",
    "    summary['Missing'] = df.isnull().sum().values    \n",
    "    # Count the number of different values in each column, excluding null values\n",
    "    summary['Uniques'] = df.nunique().values\n",
    "    return summary"
   ]
  },
  {
   "cell_type": "code",
   "execution_count": 112,
   "metadata": {},
   "outputs": [
    {
     "name": "stdout",
     "output_type": "stream",
     "text": [
      "                   Name   Missing\n",
      "48   Medical_History_10  0.990642\n",
      "70   Medical_History_32  0.981318\n",
      "62   Medical_History_24  0.935939\n",
      "24        InsuredInfo_8  0.879197\n",
      "53   Medical_History_15  0.750972\n",
      "25        InsuredInfo_9  0.749410\n",
      "38        Family_Hist_5  0.703996\n",
      "36        Family_Hist_3  0.576621\n",
      "35        Family_Hist_2  0.482702\n",
      "30  Insurance_History_5  0.427642\n",
      "37        Family_Hist_4  0.323177\n",
      "16    Employment_Info_6  0.182623\n",
      "39    Medical_History_1  0.149607\n",
      "14    Employment_Info_4  0.114078\n",
      "11    Employment_Info_1  0.000323\n",
      "24         InsuredInfo_8\n",
      "25         InsuredInfo_9\n",
      "38         Family_Hist_5\n",
      "48    Medical_History_10\n",
      "53    Medical_History_15\n",
      "62    Medical_History_24\n",
      "70    Medical_History_32\n",
      "Name: Name, dtype: object\n"
     ]
    }
   ],
   "source": [
    "des_train = description(X_train)\n",
    "des_train['Missing'] = des_train['Missing']/X_train.shape[0]\n",
    "print(des_train[des_train['Missing']!=0].sort_values(by=['Missing'],ascending=False)[['Name','Missing']])\n",
    "\n",
    "# if the Missing rate > 70% , we drop this feature\n",
    "cols = des_train[des_train['Missing']>=0.7]['Name']\n",
    "print (cols)\n",
    "\n",
    "X_train = X_train.drop(cols, axis = 1)"
   ]
  },
  {
   "cell_type": "code",
   "execution_count": 113,
   "metadata": {},
   "outputs": [
    {
     "name": "stdout",
     "output_type": "stream",
     "text": [
      "(58881, 121)\n"
     ]
    }
   ],
   "source": [
    "print(X_train.shape)"
   ]
  },
  {
   "cell_type": "code",
   "execution_count": 114,
   "metadata": {},
   "outputs": [],
   "source": [
    "# for the other Missing feature , we repalce NaN with the meaning value\n",
    "cols = des_train[des_train['Missing']<0.7]['Name']\n",
    "X_train[cols] = X_train[cols].fillna(X_train[cols].mean())"
   ]
  },
  {
   "cell_type": "code",
   "execution_count": 115,
   "metadata": {},
   "outputs": [
    {
     "name": "stdout",
     "output_type": "stream",
     "text": [
      "[0 0 0 0 0 0 0 0 0 0 0 0 0 0 0 0 0 0 0 0 0 0 0 0 0 0 0 0 0 0 0 0 0 0 0 0 0\n",
      " 0 0 0 0 0 0 0 0 0 0 0 0 0 0 0 0 0 0 0 0 0 0 0 0 0 0 0 0 0 0 0 0 0 0 0 0 0\n",
      " 0 0 0 0 0 0 0 0 0 0 0 0 0 0 0 0 0 0 0 0 0 0 0 0 0 0 0 0 0 0 0 0 0 0 0 0 0\n",
      " 0 0 0 0 0 0 0 0 0 0]\n"
     ]
    }
   ],
   "source": [
    "print(X_train.isnull().sum().values)"
   ]
  },
  {
   "cell_type": "code",
   "execution_count": 116,
   "metadata": {},
   "outputs": [
    {
     "name": "stdout",
     "output_type": "stream",
     "text": [
      "                   Name  Missing\n",
      "48   Medical_History_10    0.988\n",
      "70   Medical_History_32    0.986\n",
      "62   Medical_History_24    0.942\n",
      "24        InsuredInfo_8    0.902\n",
      "53   Medical_History_15    0.756\n",
      "25        InsuredInfo_9    0.742\n",
      "38        Family_Hist_5    0.718\n",
      "36        Family_Hist_3    0.578\n",
      "35        Family_Hist_2    0.468\n",
      "30  Insurance_History_5    0.432\n",
      "37        Family_Hist_4    0.310\n",
      "16    Employment_Info_6    0.202\n",
      "39    Medical_History_1    0.160\n",
      "14    Employment_Info_4    0.124\n",
      "24         InsuredInfo_8\n",
      "25         InsuredInfo_9\n",
      "38         Family_Hist_5\n",
      "48    Medical_History_10\n",
      "53    Medical_History_15\n",
      "62    Medical_History_24\n",
      "70    Medical_History_32\n",
      "Name: Name, dtype: object\n"
     ]
    }
   ],
   "source": [
    "des_predict = description(X_predict)\n",
    "\n",
    "des_predict['Missing'] = des_predict['Missing']/X_predict.shape[0]\n",
    "print(des_predict[des_predict['Missing']!=0].sort_values(by=['Missing'],ascending=False)[['Name','Missing']])\n",
    "\n",
    "cols = des_predict[des_predict['Missing']>=0.7]['Name']\n",
    "print (cols)\n",
    "\n",
    "X_predict = X_predict.drop(cols, axis = 1)"
   ]
  },
  {
   "cell_type": "code",
   "execution_count": 117,
   "metadata": {},
   "outputs": [
    {
     "name": "stdout",
     "output_type": "stream",
     "text": [
      "(500, 121)\n"
     ]
    }
   ],
   "source": [
    "print(X_predict.shape)\n",
    "# we drop the same feature !!!"
   ]
  },
  {
   "cell_type": "code",
   "execution_count": 118,
   "metadata": {},
   "outputs": [],
   "source": [
    "# for the other Missing feature , we repalce NaN with the meaning value\n",
    "cols = des_predict[des_predict['Missing']<0.7]['Name']\n",
    "X_predict[cols] = X_predict[cols].fillna(X_predict[cols].mean())"
   ]
  },
  {
   "cell_type": "code",
   "execution_count": 119,
   "metadata": {},
   "outputs": [
    {
     "name": "stdout",
     "output_type": "stream",
     "text": [
      "[0 0 0 0 0 0 0 0 0 0 0 0 0 0 0 0 0 0 0 0 0 0 0 0 0 0 0 0 0 0 0 0 0 0 0 0 0\n",
      " 0 0 0 0 0 0 0 0 0 0 0 0 0 0 0 0 0 0 0 0 0 0 0 0 0 0 0 0 0 0 0 0 0 0 0 0 0\n",
      " 0 0 0 0 0 0 0 0 0 0 0 0 0 0 0 0 0 0 0 0 0 0 0 0 0 0 0 0 0 0 0 0 0 0 0 0 0\n",
      " 0 0 0 0 0 0 0 0 0 0]\n"
     ]
    }
   ],
   "source": [
    "print(X_predict.isnull().sum().values)"
   ]
  },
  {
   "cell_type": "markdown",
   "metadata": {},
   "source": [
    "2. Exception value processing"
   ]
  },
  {
   "cell_type": "code",
   "execution_count": 120,
   "metadata": {},
   "outputs": [
    {
     "name": "stdout",
     "output_type": "stream",
     "text": [
      "(58849, 121)\n",
      "(500, 121)\n"
     ]
    }
   ],
   "source": [
    "# Remove duplicate lines\n",
    "X_train=X_train.drop_duplicates()\n",
    "print(X_train.shape)\n",
    "\n",
    "X_predict=X_predict.drop_duplicates()\n",
    "print(X_predict.shape)"
   ]
  },
  {
   "cell_type": "markdown",
   "metadata": {},
   "source": [
    "3. Data normalization and standardization"
   ]
  },
  {
   "cell_type": "code",
   "execution_count": 123,
   "metadata": {},
   "outputs": [
    {
     "name": "stdout",
     "output_type": "stream",
     "text": [
      "<class 'pandas.core.frame.DataFrame'>\n",
      "Int64Index: 58849 entries, 0 to 58880\n",
      "Columns: 121 entries, Product_Info_1 to Medical_Keyword_48\n",
      "dtypes: float64(13), int64(106), object(2)\n",
      "memory usage: 54.8+ MB\n",
      "              Name  dtypes  Missing  Uniques\n",
      "1   Product_Info_2  object        0       19\n",
      "23   InsuredInfo_7  object        0        2\n"
     ]
    }
   ],
   "source": [
    "X_train.info()\n",
    "\n",
    "des = description(X_train)\n",
    "print(des[des['dtypes']=='object'])"
   ]
  },
  {
   "cell_type": "code",
   "execution_count": 125,
   "metadata": {},
   "outputs": [],
   "source": [
    "# Feature digitization : one-hot code\n",
    "from sklearn.feature_extraction import DictVectorizer\n",
    "\n",
    "vec = DictVectorizer(sparse=False)\n",
    "\n",
    "X_train = vec.fit_transform(X_train.to_dict(orient='record'))"
   ]
  },
  {
   "cell_type": "code",
   "execution_count": 126,
   "metadata": {},
   "outputs": [
    {
     "name": "stdout",
     "output_type": "stream",
     "text": [
      "<class 'pandas.core.frame.DataFrame'>\n",
      "Int64Index: 500 entries, 0 to 499\n",
      "Columns: 121 entries, Product_Info_1 to Medical_Keyword_48\n",
      "dtypes: float64(13), int64(106), object(2)\n",
      "memory usage: 476.6+ KB\n",
      "              Name  dtypes  Missing  Uniques\n",
      "1   Product_Info_2  object        0       16\n",
      "23   InsuredInfo_7  object        0        2\n"
     ]
    }
   ],
   "source": [
    "X_predict.info()\n",
    "\n",
    "des = description(X_predict)\n",
    "print(des[des['dtypes']=='object'])"
   ]
  },
  {
   "cell_type": "code",
   "execution_count": 127,
   "metadata": {},
   "outputs": [],
   "source": [
    "X_predict = vec.transform(X_predict.to_dict(orient='record'))"
   ]
  },
  {
   "cell_type": "code",
   "execution_count": 128,
   "metadata": {},
   "outputs": [],
   "source": [
    "# Data standardization\n",
    "\n",
    "from sklearn.preprocessing import StandardScaler\n",
    "\n",
    "ss= StandardScaler()\n",
    "X_train = ss.fit_transform(X_train)\n",
    "X_predict = ss.transform(X_predict)"
   ]
  },
  {
   "cell_type": "code",
   "execution_count": null,
   "metadata": {},
   "outputs": [],
   "source": []
  }
 ],
 "metadata": {
  "kernelspec": {
   "display_name": "Python 3",
   "language": "python",
   "name": "python3"
  },
  "language_info": {
   "codemirror_mode": {
    "name": "ipython",
    "version": 3
   },
   "file_extension": ".py",
   "mimetype": "text/x-python",
   "name": "python",
   "nbconvert_exporter": "python",
   "pygments_lexer": "ipython3",
   "version": "3.7.5"
  }
 },
 "nbformat": 4,
 "nbformat_minor": 2
}
