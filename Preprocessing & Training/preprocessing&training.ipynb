{
 "cells": [
  {
   "cell_type": "markdown",
   "metadata": {},
   "source": [
    "Prétraitement des données & formation sur les modèles"
   ]
  },
  {
   "cell_type": "code",
   "execution_count": 1,
   "metadata": {},
   "outputs": [
    {
     "name": "stderr",
     "output_type": "stream",
     "text": [
      "/usr/local/lib/python3.7/site-packages/pandas/core/frame.py:7138: FutureWarning: Sorting because non-concatenation axis is not aligned. A future version\n",
      "of pandas will change to not sort by default.\n",
      "\n",
      "To accept the future behavior, pass 'sort=False'.\n",
      "\n",
      "To retain the current behavior and silence the warning, pass 'sort=True'.\n",
      "\n",
      "  sort=sort,\n"
     ]
    }
   ],
   "source": [
    "import numpy as np\n",
    "import pandas as pd\n",
    "\n",
    "X_train = pd.read_csv('../data_input/train.csv')\n",
    "X_predict = pd.read_csv('../data_input/predict.csv')\n",
    "\n",
    "# combiner train et predict\n",
    "all_data = X_train.append(X_predict,sort=None)\n",
    "\n",
    "all_data['Response'].fillna(-1, inplace=True)\n",
    "\n",
    "# corrige le dtype sur la colonne label\n",
    "all_data['Response'] = all_data['Response'].astype(int)"
   ]
  },
  {
   "cell_type": "markdown",
   "metadata": {},
   "source": [
    "1. Traitement les données en double"
   ]
  },
  {
   "cell_type": "code",
   "execution_count": 2,
   "metadata": {},
   "outputs": [
    {
     "name": "stdout",
     "output_type": "stream",
     "text": [
      "(59364, 129)\n"
     ]
    }
   ],
   "source": [
    "# Supprimer les lignes en double\n",
    "all_data = all_data.drop_duplicates()\n",
    "\n",
    "print(all_data.shape)"
   ]
  },
  {
   "cell_type": "markdown",
   "metadata": {},
   "source": [
    "2. Traitement de la valeur manquante"
   ]
  },
  {
   "cell_type": "code",
   "execution_count": 3,
   "metadata": {},
   "outputs": [],
   "source": [
    "def description(df):\n",
    "    summary = pd.DataFrame(df.dtypes,columns=['dtypes'])\n",
    "    summary = summary.reset_index()\n",
    "    summary['Name'] = summary['index']\n",
    "    summary = summary[['Name','dtypes']]\n",
    "    # Comptez le nombre de valeurs manquantes dans chaque colonne\n",
    "    summary['Missing'] = df.isnull().sum().values    \n",
    "    # Comptez le nombre de valeurs différentes dans chaque colonne, à l'exclusion des valeurs nulles\n",
    "    summary['Uniques'] = df.nunique().values\n",
    "    return summary"
   ]
  },
  {
   "cell_type": "code",
   "execution_count": 4,
   "metadata": {},
   "outputs": [
    {
     "name": "stdout",
     "output_type": "stream",
     "text": [
      "                   Name   Missing\n",
      "32   Medical_History_10  0.990617\n",
      "56   Medical_History_32  0.981352\n",
      "47   Medical_History_24  0.936005\n",
      "29        InsuredInfo_8  0.879354\n",
      "37   Medical_History_15  0.750960\n",
      "30        InsuredInfo_9  0.749293\n",
      "11        Family_Hist_5  0.704097\n",
      "9         Family_Hist_3  0.576663\n",
      "8         Family_Hist_2  0.482565\n",
      "18  Insurance_History_5  0.427751\n",
      "10        Family_Hist_4  0.323091\n",
      "6     Employment_Info_6  0.182821\n",
      "31    Medical_History_1  0.149737\n",
      "4     Employment_Info_4  0.114160\n",
      "1     Employment_Info_1  0.000320\n",
      "11         Family_Hist_5\n",
      "29         InsuredInfo_8\n",
      "30         InsuredInfo_9\n",
      "32    Medical_History_10\n",
      "37    Medical_History_15\n",
      "47    Medical_History_24\n",
      "56    Medical_History_32\n",
      "Name: Name, dtype: object\n",
      "[0 0 0 0 0 0 0 0 0 0 0 0 0 0 0 0 0 0 0 0 0 0 0 0 0 0 0 0 0 0 0 0 0 0 0 0 0\n",
      " 0 0 0 0 0 0 0 0 0 0 0 0 0 0 0 0 0 0 0 0 0 0 0 0 0 0 0 0 0 0 0 0 0 0 0 0 0\n",
      " 0 0 0 0 0 0 0 0 0 0 0 0 0 0 0 0 0 0 0 0 0 0 0 0 0 0 0 0 0 0 0 0 0 0 0 0 0\n",
      " 0 0 0 0 0 0 0 0 0 0 0]\n"
     ]
    }
   ],
   "source": [
    "des_all_data = description(all_data)\n",
    "des_all_data['Missing'] = des_all_data['Missing']/all_data.shape[0]\n",
    "print(des_all_data[des_all_data['Missing']!=0].sort_values(by=['Missing'],ascending=False)[['Name','Missing']])\n",
    "\n",
    "# si le taux manquant > 70%, nous supprimons cette caractère\n",
    "cols = des_all_data[des_all_data['Missing'] >= 0.7]['Name']\n",
    "print(cols)\n",
    "\n",
    "all_data = all_data.drop(cols, axis=1)\n",
    "\n",
    "# pour l'autre caractères manquante, nous remplaçons NaN par la valeur de Moyenne / Median\n",
    "cols = des_all_data[des_all_data['Missing'] < 0.7]['Name']\n",
    "\n",
    "# all_data[cols] = all_data[cols].fillna(all_data[cols].mean())\n",
    "all_data[cols] = all_data[cols].fillna(all_data[cols].median())\n",
    "\n",
    "print(all_data.isnull().sum().values)"
   ]
  },
  {
   "cell_type": "code",
   "execution_count": 5,
   "metadata": {},
   "outputs": [
    {
     "name": "stdout",
     "output_type": "stream",
     "text": [
      "(59364, 122)\n"
     ]
    }
   ],
   "source": [
    "print(all_data.shape)"
   ]
  },
  {
   "cell_type": "markdown",
   "metadata": {},
   "source": [
    "3. create any new variables"
   ]
  },
  {
   "cell_type": "code",
   "execution_count": 6,
   "metadata": {},
   "outputs": [],
   "source": [
    "all_data['Product_Info_2_char'] = all_data.Product_Info_2.str[0]\n",
    "all_data['Product_Info_2_num'] = all_data.Product_Info_2.str[1]\n",
    "all_data['BMI_Age'] = all_data['BMI'] * all_data['Ins_Age']\n",
    "med_keyword_columns = all_data.columns[all_data.columns.str.startswith('Medical_Keyword_')]\n",
    "all_data['Med_Keywords_Count'] = all_data[med_keyword_columns].sum(axis=1)"
   ]
  },
  {
   "cell_type": "markdown",
   "metadata": {},
   "source": [
    "4. Numérisation des données"
   ]
  },
  {
   "cell_type": "code",
   "execution_count": 7,
   "metadata": {},
   "outputs": [
    {
     "name": "stdout",
     "output_type": "stream",
     "text": [
      "<class 'pandas.core.frame.DataFrame'>\n",
      "Int64Index: 59364 entries, 0 to 499\n",
      "Columns: 126 entries, BMI to Med_Keywords_Count\n",
      "dtypes: float64(14), int64(108), object(4)\n",
      "memory usage: 57.5+ MB\n",
      "                    Name  dtypes  Missing  Uniques\n",
      "27         InsuredInfo_7  object        0        2\n",
      "114       Product_Info_2  object        0       19\n",
      "122  Product_Info_2_char  object        0        5\n",
      "123   Product_Info_2_num  object        0        8\n"
     ]
    }
   ],
   "source": [
    "all_data.info()\n",
    "\n",
    "des_all_data = description(all_data)\n",
    "print(des_all_data[des_all_data['dtypes']=='object'])"
   ]
  },
  {
   "cell_type": "code",
   "execution_count": 8,
   "metadata": {},
   "outputs": [
    {
     "name": "stderr",
     "output_type": "stream",
     "text": [
      "/usr/local/lib/python3.7/site-packages/sklearn/preprocessing/_encoders.py:415: FutureWarning: The handling of integer data will change in version 0.22. Currently, the categories are determined based on the range [0, max(values)], while in the future they will be determined based on the unique values.\n",
      "If you want the future behaviour and silence this warning, you can specify \"categories='auto'\".\n",
      "In case you used a LabelEncoder before this OneHotEncoder to convert the categories to integers, then you can now use the OneHotEncoder directly.\n",
      "  warnings.warn(msg, FutureWarning)\n",
      "/usr/local/lib/python3.7/site-packages/sklearn/preprocessing/_encoders.py:451: DeprecationWarning: The 'categorical_features' keyword is deprecated in version 0.20 and will be removed in 0.22. You can use the ColumnTransformer instead.\n",
      "  \"use the ColumnTransformer instead.\", DeprecationWarning)\n"
     ]
    }
   ],
   "source": [
    "# Numérisation des caractères : one-hot code\n",
    "\n",
    "from sklearn.preprocessing import LabelEncoder\n",
    "\n",
    "label_encode = LabelEncoder()\n",
    "all_data['Product_Info_2'] = label_encode.fit_transform(all_data['Product_Info_2'])\n",
    "all_data['InsuredInfo_7'] = label_encode.fit_transform(all_data['InsuredInfo_7'])\n",
    "all_data['Product_Info_2_char'] = label_encode.fit_transform(all_data['Product_Info_2_char'])\n",
    "all_data['Product_Info_2_num'] = label_encode.fit_transform(all_data['Product_Info_2_num'])\n",
    "\n",
    "from sklearn.preprocessing import OneHotEncoder\n",
    "\n",
    "one_hot = OneHotEncoder(categorical_features=[27, 114, 122, 123], sparse=False)\n",
    "all_data = one_hot.fit_transform(all_data)\n"
   ]
  },
  {
   "cell_type": "markdown",
   "metadata": {},
   "source": [
    "5. PCA dimensionality reduction"
   ]
  },
  {
   "cell_type": "code",
   "execution_count": 9,
   "metadata": {},
   "outputs": [],
   "source": [
    "# from sklearn.decomposition import PCA\n",
    "\n",
    "# estimator = PCA(n_components='mle')\n",
    "# pca_all_data = estimator.fit_transform(all_data)\n",
    "\n",
    "# print(estimator.n_components_)\n",
    "\n",
    "# print(estimator.explained_variance_ratio_)"
   ]
  },
  {
   "cell_type": "markdown",
   "metadata": {},
   "source": [
    "6. Sélection des caractères"
   ]
  },
  {
   "cell_type": "code",
   "execution_count": 10,
   "metadata": {},
   "outputs": [],
   "source": [
    "# from sklearn import feature_selection\n",
    "\n",
    "# # si le variance < 0.005 , nous supprimons cette caractère\n",
    "# sele = feature_selection.VarianceThreshold(threshold=0.005)\n",
    "\n",
    "# X_train = sele.fit_transform(X_train)"
   ]
  },
  {
   "cell_type": "markdown",
   "metadata": {},
   "source": [
    "7. Standardisation des données"
   ]
  },
  {
   "cell_type": "code",
   "execution_count": 11,
   "metadata": {},
   "outputs": [],
   "source": [
    "# Standardization des données\n",
    "\n",
    "# from sklearn.preprocessing import StandardScaler\n",
    "\n",
    "# ss= StandardScaler()\n",
    "# X_train = ss.fit_transform(X_train)\n",
    "# X_predict = ss.fit_transform(X_predict)\n"
   ]
  },
  {
   "cell_type": "code",
   "execution_count": 12,
   "metadata": {},
   "outputs": [],
   "source": [
    "all_data = pd.DataFrame(all_data)\n",
    "\n",
    "# split train and test\n",
    "train = all_data[all_data[152] > 0].copy()\n",
    "predict = all_data[all_data[152] < 0].copy()\n",
    "\n",
    "digits_data = train\n",
    "digits_target = train[152]\n",
    "del digits_data[152]\n",
    "del predict[152]"
   ]
  },
  {
   "cell_type": "markdown",
   "metadata": {},
   "source": [
    "7. Formation de modèle"
   ]
  },
  {
   "cell_type": "code",
   "execution_count": 13,
   "metadata": {},
   "outputs": [],
   "source": [
    "# Split data set\n",
    "# Parce que le type de distribution label n'est pas uniforme,\n",
    "# j'ai utilisé l'échantillonnage stratifié\n",
    "\n",
    "\n",
    "from sklearn.model_selection import train_test_split\n",
    "\n",
    "X_train, X_test, y_train, y_test = train_test_split(digits_data, digits_target, test_size=0.25,\n",
    "                                                    random_state=42, stratify=digits_target)"
   ]
  },
  {
   "cell_type": "markdown",
   "metadata": {},
   "source": [
    "5.1 LinearSVC"
   ]
  },
  {
   "cell_type": "code",
   "execution_count": 14,
   "metadata": {},
   "outputs": [
    {
     "data": {
      "text/plain": [
       "'\\nfrom sklearn.svm import LinearSVC\\n\\nlsvc = LinearSVC()\\nlsvc.fit(X_train,y_train)\\n\\ny_predict = lsvc.predict(X_test)\\n\\nprint(lsvc.score(X_test,y_test))\\n\\nfrom sklearn.metrics import classification_report\\n\\nprint(classification_report(y_test,y_predict))\\n'"
      ]
     },
     "execution_count": 14,
     "metadata": {},
     "output_type": "execute_result"
    }
   ],
   "source": [
    "'''\n",
    "from sklearn.svm import LinearSVC\n",
    "\n",
    "lsvc = LinearSVC()\n",
    "lsvc.fit(X_train,y_train)\n",
    "\n",
    "y_predict = lsvc.predict(X_test)\n",
    "\n",
    "print(lsvc.score(X_test,y_test))\n",
    "\n",
    "from sklearn.metrics import classification_report\n",
    "\n",
    "print(classification_report(y_test,y_predict))\n",
    "'''"
   ]
  },
  {
   "cell_type": "code",
   "execution_count": 15,
   "metadata": {},
   "outputs": [
    {
     "data": {
      "text/plain": [
       "'\\nlsvc.fit(pca_X_train,y_train)\\n\\npca_y_predict = lsvc.predict(pca_X_test)\\n\\nprint(lsvc.score(pca_X_test,y_test))\\n\\nfrom sklearn.metrics import classification_report\\n\\nprint(classification_report(y_test,pca_y_predict))\\n'"
      ]
     },
     "execution_count": 15,
     "metadata": {},
     "output_type": "execute_result"
    }
   ],
   "source": [
    "'''\n",
    "lsvc.fit(pca_X_train,y_train)\n",
    "\n",
    "pca_y_predict = lsvc.predict(pca_X_test)\n",
    "\n",
    "print(lsvc.score(pca_X_test,y_test))\n",
    "\n",
    "from sklearn.metrics import classification_report\n",
    "\n",
    "print(classification_report(y_test,pca_y_predict))\n",
    "'''"
   ]
  },
  {
   "cell_type": "markdown",
   "metadata": {},
   "source": [
    "5.2 GBDT"
   ]
  },
  {
   "cell_type": "code",
   "execution_count": 16,
   "metadata": {},
   "outputs": [
    {
     "name": "stdout",
     "output_type": "stream",
     "text": [
      "0.5447132372927426\n",
      "              precision    recall  f1-score   support\n",
      "\n",
      "         1.0       0.47      0.22      0.30      1539\n",
      "         2.0       0.47      0.26      0.34      1624\n",
      "         3.0       0.37      0.06      0.11       252\n",
      "         4.0       0.35      0.11      0.17       355\n",
      "         5.0       0.58      0.56      0.57      1347\n",
      "         6.0       0.41      0.52      0.46      2783\n",
      "         7.0       0.46      0.37      0.41      1986\n",
      "         8.0       0.66      0.88      0.75      4830\n",
      "\n",
      "    accuracy                           0.54     14716\n",
      "   macro avg       0.47      0.37      0.39     14716\n",
      "weighted avg       0.52      0.54      0.52     14716\n",
      "\n"
     ]
    }
   ],
   "source": [
    "from sklearn.ensemble import GradientBoostingClassifier\n",
    "gbc = GradientBoostingClassifier()\n",
    "gbc.fit(X_train, y_train)\n",
    "gbc_y_predict = gbc.predict(X_test)\n",
    "\n",
    "print(gbc.score(X_test, y_test))\n",
    "\n",
    "from sklearn.metrics import classification_report\n",
    " \n",
    "print(classification_report(y_test, gbc_y_predict))"
   ]
  },
  {
   "cell_type": "code",
   "execution_count": 17,
   "metadata": {},
   "outputs": [
    {
     "data": {
      "text/plain": [
       "'\\nfrom sklearn.ensemble import GradientBoostingClassifier\\ngbc = GradientBoostingClassifier()\\ngbc.fit(pca_X_train, y_train)\\ngbc_y_predict = gbc.predict(pca_X_test)\\n\\nprint(gbc.score(pca_X_test, y_test))\\n\\nfrom sklearn.metrics import classification_report\\n\\nprint(classification_report(y_test, gbc_y_predict))\\n'"
      ]
     },
     "execution_count": 17,
     "metadata": {},
     "output_type": "execute_result"
    }
   ],
   "source": [
    "'''\n",
    "from sklearn.ensemble import GradientBoostingClassifier\n",
    "gbc = GradientBoostingClassifier()\n",
    "gbc.fit(pca_X_train, y_train)\n",
    "gbc_y_predict = gbc.predict(pca_X_test)\n",
    "\n",
    "print(gbc.score(pca_X_test, y_test))\n",
    "\n",
    "from sklearn.metrics import classification_report\n",
    "\n",
    "print(classification_report(y_test, gbc_y_predict))\n",
    "'''"
   ]
  },
  {
   "cell_type": "code",
   "execution_count": null,
   "metadata": {},
   "outputs": [],
   "source": []
  }
 ],
 "metadata": {
  "kernelspec": {
   "display_name": "Python 3",
   "language": "python",
   "name": "python3"
  },
  "language_info": {
   "codemirror_mode": {
    "name": "ipython",
    "version": 3
   },
   "file_extension": ".py",
   "mimetype": "text/x-python",
   "name": "python",
   "nbconvert_exporter": "python",
   "pygments_lexer": "ipython3",
   "version": "3.7.6"
  }
 },
 "nbformat": 4,
 "nbformat_minor": 2
}
