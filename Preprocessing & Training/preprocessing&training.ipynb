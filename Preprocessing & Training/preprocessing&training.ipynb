{
 "cells": [
  {
   "cell_type": "markdown",
   "metadata": {},
   "source": [
    "Prétraitement des données & formation sur les modèles"
   ]
  },
  {
   "cell_type": "code",
   "execution_count": 1,
   "metadata": {},
   "outputs": [],
   "source": [
    "import numpy as np\n",
    "import pandas as pd\n",
    "\n",
    "X_train = pd.read_csv('../data_input/train.csv')\n",
    "X_predict = pd.read_csv('../data_input/predict.csv')"
   ]
  },
  {
   "cell_type": "markdown",
   "metadata": {},
   "source": [
    "1. Traitement les données en double"
   ]
  },
  {
   "cell_type": "code",
   "execution_count": 2,
   "metadata": {},
   "outputs": [
    {
     "name": "stdout",
     "output_type": "stream",
     "text": [
      "(58864, 129)\n"
     ]
    }
   ],
   "source": [
    "# Supprimer les lignes en double\n",
    "X_train = X_train.drop_duplicates()\n",
    "\n",
    "print(X_train.shape)"
   ]
  },
  {
   "cell_type": "markdown",
   "metadata": {},
   "source": [
    "2. Resampling"
   ]
  },
  {
   "cell_type": "code",
   "execution_count": 3,
   "metadata": {},
   "outputs": [
    {
     "name": "stdout",
     "output_type": "stream",
     "text": [
      "8    19318\n",
      "6    11134\n",
      "7     7944\n",
      "2     6494\n",
      "1     6157\n",
      "5     5389\n",
      "4     1419\n",
      "3     1009\n",
      "Name: Response, dtype: int64\n",
      "8    19318\n",
      "6    11134\n",
      "7     7944\n",
      "4     7062\n",
      "2     6494\n",
      "1     6157\n",
      "5     5389\n",
      "3     4938\n",
      "Name: Response, dtype: int64\n"
     ]
    }
   ],
   "source": [
    "from sklearn.utils import resample\n",
    "from sklearn.utils import resample\n",
    "\n",
    "# Séparation des catégories majoritaires et minoritaires\n",
    "\n",
    "X_train_minority = X_train[(X_train.Response == 3) | (X_train.Response == 4)]\n",
    "X_train_majority = X_train[(X_train.Response == 1) | (X_train.Response == 2) |\n",
    "                           (X_train.Response == 5) | (X_train.Response == 6) |\n",
    "                           (X_train.Response == 7) | (X_train.Response == 8)]\n",
    "\n",
    "print(X_train.Response.value_counts())\n",
    "\n",
    "# Suréchantillonnage des catégories minoritaires\n",
    "X_train_minority_upsampled = resample(X_train_minority, replace=True,\n",
    "                                      n_samples=12000,\n",
    "                                      random_state=42)\n",
    "\n",
    "# Fusionner la plupart des catégories et quelques catégories suréchantillonnées\n",
    "X_train_upsampled = pd.concat([X_train_majority, X_train_minority_upsampled])\n",
    "\n",
    "# Afficher le nouveau numéro de catégorie\n",
    "print(X_train_upsampled.Response.value_counts())\n",
    "\n",
    "X_train = X_train_upsampled"
   ]
  },
  {
   "cell_type": "markdown",
   "metadata": {},
   "source": [
    "3. combiner train et predict"
   ]
  },
  {
   "cell_type": "code",
   "execution_count": 4,
   "metadata": {},
   "outputs": [],
   "source": [
    "all_data = X_train.append(X_predict,sort=False)\n",
    "\n",
    "all_data['Response'].fillna(-1, inplace=True)\n",
    "\n",
    "# corrige le dtype sur la colonne label\n",
    "all_data['Response'] = all_data['Response'].astype(int)"
   ]
  },
  {
   "cell_type": "markdown",
   "metadata": {},
   "source": [
    "4. Traitement de la valeur manquante"
   ]
  },
  {
   "cell_type": "code",
   "execution_count": 5,
   "metadata": {},
   "outputs": [],
   "source": [
    "def description(df):\n",
    "    summary = pd.DataFrame(df.dtypes,columns=['dtypes'])\n",
    "    summary = summary.reset_index()\n",
    "    summary['Name'] = summary['index']\n",
    "    summary = summary[['Name','dtypes']]\n",
    "    # Comptez le nombre de valeurs manquantes dans chaque colonne\n",
    "    summary['Missing'] = df.isnull().sum().values    \n",
    "    # Comptez le nombre de valeurs différentes dans chaque colonne, à l'exclusion des valeurs nulles\n",
    "    summary['Uniques'] = df.nunique().values\n",
    "    return summary"
   ]
  },
  {
   "cell_type": "code",
   "execution_count": 6,
   "metadata": {},
   "outputs": [
    {
     "name": "stdout",
     "output_type": "stream",
     "text": [
      "                   Name   Missing\n",
      "48   Medical_History_10  0.991006\n",
      "70   Medical_History_32  0.976224\n",
      "62   Medical_History_24  0.934417\n",
      "24        InsuredInfo_8  0.881006\n",
      "25        InsuredInfo_9  0.747911\n",
      "38        Family_Hist_5  0.712356\n",
      "53   Medical_History_15  0.661759\n",
      "36        Family_Hist_3  0.587269\n",
      "35        Family_Hist_2  0.472960\n",
      "30  Insurance_History_5  0.441482\n",
      "37        Family_Hist_4  0.315423\n",
      "16    Employment_Info_6  0.189901\n",
      "39    Medical_History_1  0.160381\n",
      "14    Employment_Info_4  0.111872\n",
      "11    Employment_Info_1  0.000276\n",
      "24         InsuredInfo_8\n",
      "25         InsuredInfo_9\n",
      "36         Family_Hist_3\n",
      "38         Family_Hist_5\n",
      "48    Medical_History_10\n",
      "53    Medical_History_15\n",
      "62    Medical_History_24\n",
      "70    Medical_History_32\n",
      "Name: Name, dtype: object\n",
      "[0 0 0 0 0 0 0 0 0 0 0 0 0 0 0 0 0 0 0 0 0 0 0 0 0 0 0 0 0 0 0 0 0 0 0 0 0\n",
      " 0 0 0 0 0 0 0 0 0 0 0 0 0 0 0 0 0 0 0 0 0 0 0 0 0 0 0 0 0 0 0 0 0 0 0 0 0\n",
      " 0 0 0 0 0 0 0 0 0 0 0 0 0 0 0 0 0 0 0 0 0 0 0 0 0 0 0 0 0 0 0 0 0 0 0 0 0\n",
      " 0 0 0 0 0 0 0 0 0 0]\n"
     ]
    }
   ],
   "source": [
    "des_all_data = description(all_data)\n",
    "des_all_data['Missing'] = des_all_data['Missing']/all_data.shape[0]\n",
    "print(des_all_data[des_all_data['Missing']!=0].sort_values(by=['Missing'],ascending=False)[['Name','Missing']])\n",
    "\n",
    "# si le taux manquant > 50%, nous supprimons cette caractère\n",
    "cols = des_all_data[des_all_data['Missing'] >= 0.5]['Name']\n",
    "print(cols)\n",
    "\n",
    "all_data = all_data.drop(cols, axis=1)\n",
    "\n",
    "# pour l'autre caractères manquante, nous remplaçons NaN par la valeur de Moyenne / Median\n",
    "cols = des_all_data[des_all_data['Missing'] < 0.5]['Name']\n",
    "\n",
    "# all_data[cols] = all_data[cols].fillna(all_data[cols].mean())\n",
    "\n",
    "all_data[cols] = all_data[cols].fillna(all_data[cols].median())\n",
    "\n",
    "print(all_data.isnull().sum().values)"
   ]
  },
  {
   "cell_type": "code",
   "execution_count": 7,
   "metadata": {},
   "outputs": [
    {
     "name": "stdout",
     "output_type": "stream",
     "text": [
      "(68936, 121)\n"
     ]
    }
   ],
   "source": [
    "print(all_data.shape)"
   ]
  },
  {
   "cell_type": "markdown",
   "metadata": {},
   "source": [
    "5. créer de nouvelles variables"
   ]
  },
  {
   "cell_type": "code",
   "execution_count": 8,
   "metadata": {},
   "outputs": [],
   "source": [
    "all_data['Product_Info_2_char'] = all_data.Product_Info_2.str[0]\n",
    "all_data['Product_Info_2_num'] = all_data.Product_Info_2.str[1]\n",
    "all_data['BMI_Age'] = all_data['BMI'] * all_data['Ins_Age']\n",
    "med_keyword_columns = all_data.columns[all_data.columns.str.startswith('Medical_Keyword_')]\n",
    "all_data['Med_Keywords_Count'] = all_data[med_keyword_columns].sum(axis=1)"
   ]
  },
  {
   "cell_type": "markdown",
   "metadata": {},
   "source": [
    "6. Standardization des données"
   ]
  },
  {
   "cell_type": "code",
   "execution_count": 9,
   "metadata": {},
   "outputs": [],
   "source": [
    "# variables_discrete = ['Medical_History_1', 'Medical_History_10', 'Medical_History_15',\n",
    "#                       'Medical_History_24', 'Medical_History_32']\n",
    "\n",
    "# Seule cette variable est laissée 'Medical_History_1'\n",
    "\n",
    "from sklearn.preprocessing import StandardScaler\n",
    "\n",
    "ss = StandardScaler()\n",
    "mh1_scale_param = ss.fit(all_data['Medical_History_1'].values.reshape(-1, 1))\n",
    "all_data['Medical_History_1'] = ss.fit_transform(all_data['Medical_History_1'].values.reshape(-1, 1), mh1_scale_param)\n"
   ]
  },
  {
   "cell_type": "markdown",
   "metadata": {},
   "source": [
    "7. Numérisation des données"
   ]
  },
  {
   "cell_type": "code",
   "execution_count": 10,
   "metadata": {},
   "outputs": [
    {
     "name": "stdout",
     "output_type": "stream",
     "text": [
      "<class 'pandas.core.frame.DataFrame'>\n",
      "Int64Index: 68936 entries, 0 to 499\n",
      "Columns: 125 entries, Product_Info_1 to Med_Keywords_Count\n",
      "dtypes: float64(13), int64(108), object(4)\n",
      "memory usage: 66.3+ MB\n",
      "                    Name  dtypes  Missing  Uniques\n",
      "1         Product_Info_2  object        0       19\n",
      "23         InsuredInfo_7  object        0        2\n",
      "121  Product_Info_2_char  object        0        5\n",
      "122   Product_Info_2_num  object        0        8\n"
     ]
    }
   ],
   "source": [
    "all_data.info()\n",
    "\n",
    "des_all_data = description(all_data)\n",
    "print(des_all_data[des_all_data['dtypes']=='object'])\n"
   ]
  },
  {
   "cell_type": "code",
   "execution_count": 11,
   "metadata": {},
   "outputs": [],
   "source": [
    "# Numérisation des caractères : one-hot code\n",
    "\n",
    "from sklearn.preprocessing import LabelEncoder\n",
    "\n",
    "label_encode = LabelEncoder()\n",
    "all_data['Product_Info_2'] = label_encode.fit_transform(all_data['Product_Info_2'])\n",
    "all_data['InsuredInfo_7'] = label_encode.fit_transform(all_data['InsuredInfo_7'])\n",
    "all_data['Product_Info_2_char'] = label_encode.fit_transform(all_data['Product_Info_2_char'])\n",
    "all_data['Product_Info_2_num'] = label_encode.fit_transform(all_data['Product_Info_2_num'])\n"
   ]
  },
  {
   "cell_type": "markdown",
   "metadata": {},
   "source": [
    "8. PCA dimensionality reduction"
   ]
  },
  {
   "cell_type": "code",
   "execution_count": 12,
   "metadata": {},
   "outputs": [],
   "source": [
    "# from sklearn.decomposition import PCA\n",
    "\n",
    "# pca_all_data = all_data\n",
    "# y_pca = pca_all_data['Response']\n",
    "# del pca_all_data['Response']\n",
    "\n",
    "# estimator = PCA(n_components='mle')\n",
    "# pca_all_data = estimator.fit_transform(pca_all_data)\n",
    "\n",
    "# print(estimator.n_components_)\n",
    "\n",
    "# print(estimator.explained_variance_ratio_)\n",
    "\n",
    "# pca_all_data = np.insert(pca_all_data, 125, values=y_pca, axis=1)\n",
    "\n",
    "# all_data = pd.DataFrame(pca_all_data).rename(columns={125: 'Response'})"
   ]
  },
  {
   "cell_type": "markdown",
   "metadata": {},
   "source": [
    "9. Sélection des caractères"
   ]
  },
  {
   "cell_type": "code",
   "execution_count": 13,
   "metadata": {},
   "outputs": [],
   "source": [
    "from sklearn import feature_selection\n",
    "\n",
    "# si le variance < 0.005 , nous supprimons cette caractère\n",
    "sele = feature_selection.VarianceThreshold(threshold=0.005)\n",
    "\n",
    "fs_all_data = all_data\n",
    "y_pca = fs_all_data['Response']\n",
    "del fs_all_data['Response']\n",
    "\n",
    "fs_all_data = sele.fit_transform(fs_all_data)\n",
    "\n",
    "fs_all_data = np.insert(fs_all_data, 121, values=y_pca, axis=1)\n",
    "\n",
    "all_data = pd.DataFrame(fs_all_data).rename(columns={121: 'Response'})"
   ]
  },
  {
   "cell_type": "markdown",
   "metadata": {},
   "source": [
    "10. Partitionnement de l'ensemble de données"
   ]
  },
  {
   "cell_type": "code",
   "execution_count": 14,
   "metadata": {},
   "outputs": [],
   "source": [
    "all_data = pd.DataFrame(all_data)\n",
    "\n",
    "# split train and test\n",
    "train = all_data[all_data['Response'] > 0].copy()\n",
    "predict = all_data[all_data['Response'] < 0].copy()\n",
    "del predict['Response']\n",
    "\n",
    "digits_data = train\n",
    "digits_target = train['Response']\n",
    "del digits_data['Response']\n",
    "\n",
    "# Split data set\n",
    "# Parce que le type de distribution label n'est pas uniforme,\n",
    "# j'ai utilisé l'échantillonnage stratifié\n",
    "\n",
    "\n",
    "from sklearn.model_selection import train_test_split\n",
    "X_train, X_test, y_train, y_test = train_test_split(digits_data, digits_target, test_size=0.25,\n",
    "                                                    random_state=42, stratify=digits_target)"
   ]
  },
  {
   "cell_type": "markdown",
   "metadata": {},
   "source": [
    "11. Formation de modèle"
   ]
  },
  {
   "cell_type": "code",
   "execution_count": 15,
   "metadata": {},
   "outputs": [],
   "source": [
    "from sklearn.metrics import classification_report\n",
    "\n",
    "results = pd.Series([])"
   ]
  },
  {
   "cell_type": "markdown",
   "metadata": {},
   "source": [
    "LinearSVC"
   ]
  },
  {
   "cell_type": "code",
   "execution_count": 16,
   "metadata": {},
   "outputs": [
    {
     "name": "stdout",
     "output_type": "stream",
     "text": [
      "              precision    recall  f1-score   support\n",
      "\n",
      "         1.0       0.59      0.05      0.10      1539\n",
      "         2.0       0.32      0.02      0.03      1624\n",
      "         3.0       0.37      0.04      0.07      1234\n",
      "         4.0       0.39      0.22      0.28      1766\n",
      "         5.0       0.15      0.61      0.24      1347\n",
      "         6.0       0.25      0.01      0.02      2784\n",
      "         7.0       0.62      0.01      0.03      1986\n",
      "         8.0       0.43      0.91      0.59      4829\n",
      "\n",
      "    accuracy                           0.34     17109\n",
      "   macro avg       0.39      0.23      0.17     17109\n",
      "weighted avg       0.40      0.34      0.24     17109\n",
      "\n",
      "precision in train set: 0.3451010189568843\n",
      "precision in test set: 0.3399380443041674\n"
     ]
    },
    {
     "name": "stderr",
     "output_type": "stream",
     "text": [
      "/usr/local/lib/python3.7/site-packages/sklearn/svm/base.py:929: ConvergenceWarning: Liblinear failed to converge, increase the number of iterations.\n",
      "  \"the number of iterations.\", ConvergenceWarning)\n"
     ]
    }
   ],
   "source": [
    "from sklearn.svm import LinearSVC\n",
    "\n",
    "lsvc = LinearSVC()\n",
    "lsvc.fit(X_train,y_train)\n",
    "\n",
    "y_predict = lsvc.predict(X_test)\n",
    "\n",
    "# from sklearn.model_selection import cross_val_score\n",
    "\n",
    "# print(\"Average prediction score: \"+str(cross_val_score(lsvc, X_train, y_train, cv=5).mean()))\n",
    "\n",
    "print(classification_report(y_test,y_predict))\n",
    "\n",
    "print(\"precision in train set: \"+str(lsvc.score(X_train, y_train)))\n",
    "print(\"precision in test set: \"+str(lsvc.score(X_test, y_test)))\n",
    "\n",
    "results['LSVC'] = lsvc.score(X_test, y_test)"
   ]
  },
  {
   "cell_type": "markdown",
   "metadata": {},
   "source": [
    "RandomForest"
   ]
  },
  {
   "cell_type": "code",
   "execution_count": 17,
   "metadata": {},
   "outputs": [
    {
     "name": "stderr",
     "output_type": "stream",
     "text": [
      "/usr/local/lib/python3.7/site-packages/sklearn/ensemble/forest.py:245: FutureWarning: The default value of n_estimators will change from 10 in version 0.20 to 100 in 0.22.\n",
      "  \"10 in version 0.20 to 100 in 0.22.\", FutureWarning)\n"
     ]
    },
    {
     "name": "stdout",
     "output_type": "stream",
     "text": [
      "              precision    recall  f1-score   support\n",
      "\n",
      "         1.0       0.29      0.24      0.26      1539\n",
      "         2.0       0.34      0.26      0.29      1624\n",
      "         3.0       0.88      0.98      0.92      1234\n",
      "         4.0       0.83      0.97      0.90      1766\n",
      "         5.0       0.49      0.41      0.44      1347\n",
      "         6.0       0.39      0.39      0.39      2784\n",
      "         7.0       0.36      0.27      0.31      1986\n",
      "         8.0       0.67      0.80      0.73      4829\n",
      "\n",
      "    accuracy                           0.57     17109\n",
      "   macro avg       0.53      0.54      0.53     17109\n",
      "weighted avg       0.54      0.57      0.55     17109\n",
      "\n",
      "precision in train set: 0.9920704502503556\n",
      "precision in test set: 0.5683558361096499\n"
     ]
    }
   ],
   "source": [
    "from sklearn.ensemble import RandomForestClassifier\n",
    "rfc = RandomForestClassifier()\n",
    "rfc.fit(X_train, y_train)\n",
    "y_predict = rfc.predict(X_test)\n",
    "\n",
    "print(classification_report(y_test, y_predict))\n",
    "\n",
    "print(\"precision in train set: \"+str(rfc.score(X_train, y_train)))\n",
    "print(\"precision in test set: \"+str(rfc.score(X_test, y_test)))\n",
    "\n",
    "results['RF'] = rfc.score(X_test, y_test)"
   ]
  },
  {
   "cell_type": "markdown",
   "metadata": {},
   "source": [
    "GBDT"
   ]
  },
  {
   "cell_type": "code",
   "execution_count": 18,
   "metadata": {},
   "outputs": [
    {
     "name": "stdout",
     "output_type": "stream",
     "text": [
      "              precision    recall  f1-score   support\n",
      "\n",
      "         1.0       0.46      0.21      0.29      1539\n",
      "         2.0       0.47      0.25      0.33      1624\n",
      "         3.0       0.59      0.42      0.49      1234\n",
      "         4.0       0.47      0.66      0.55      1766\n",
      "         5.0       0.56      0.47      0.51      1347\n",
      "         6.0       0.37      0.42      0.40      2784\n",
      "         7.0       0.44      0.35      0.39      1986\n",
      "         8.0       0.65      0.84      0.73      4829\n",
      "\n",
      "    accuracy                           0.53     17109\n",
      "   macro avg       0.50      0.45      0.46     17109\n",
      "weighted avg       0.52      0.53      0.51     17109\n",
      "\n",
      "precision in train set: 0.5500418882849183\n",
      "precision in test set: 0.5262727219592027\n"
     ]
    }
   ],
   "source": [
    "from sklearn.ensemble import GradientBoostingClassifier\n",
    "gbc = GradientBoostingClassifier()\n",
    "gbc.fit(X_train, y_train)\n",
    "y_predict = gbc.predict(X_test)\n",
    "\n",
    "print(classification_report(y_test, y_predict))\n",
    "print(\"precision in train set: \"+str(gbc.score(X_train, y_train)))\n",
    "print(\"precision in test set: \"+str(gbc.score(X_test, y_test)))\n",
    "\n",
    "results['GBDT'] = gbc.score(X_test, y_test)"
   ]
  },
  {
   "cell_type": "markdown",
   "metadata": {},
   "source": [
    "LogisticRegression"
   ]
  },
  {
   "cell_type": "code",
   "execution_count": 19,
   "metadata": {},
   "outputs": [
    {
     "name": "stderr",
     "output_type": "stream",
     "text": [
      "/usr/local/lib/python3.7/site-packages/sklearn/linear_model/logistic.py:432: FutureWarning: Default solver will be changed to 'lbfgs' in 0.22. Specify a solver to silence this warning.\n",
      "  FutureWarning)\n",
      "/usr/local/lib/python3.7/site-packages/sklearn/linear_model/logistic.py:469: FutureWarning: Default multi_class will be changed to 'auto' in 0.22. Specify the multi_class option to silence this warning.\n",
      "  \"this warning.\", FutureWarning)\n"
     ]
    },
    {
     "name": "stdout",
     "output_type": "stream",
     "text": [
      "              precision    recall  f1-score   support\n",
      "\n",
      "         1.0       0.39      0.24      0.30      1539\n",
      "         2.0       0.35      0.20      0.26      1624\n",
      "         3.0       0.40      0.35      0.37      1234\n",
      "         4.0       0.41      0.60      0.49      1766\n",
      "         5.0       0.40      0.22      0.28      1347\n",
      "         6.0       0.31      0.28      0.30      2784\n",
      "         7.0       0.38      0.24      0.29      1986\n",
      "         8.0       0.58      0.85      0.69      4829\n",
      "\n",
      "    accuracy                           0.46     17109\n",
      "   macro avg       0.40      0.37      0.37     17109\n",
      "weighted avg       0.43      0.46      0.43     17109\n",
      "\n",
      "precision in train set: 0.4701813860151577\n",
      "precision in test set: 0.457712315155766\n"
     ]
    }
   ],
   "source": [
    "from sklearn.linear_model import LogisticRegression\n",
    "\n",
    "lr = LogisticRegression()\n",
    "lr.fit(X_train, y_train)\n",
    "y_predict = lr.predict(X_test)\n",
    "\n",
    "print(classification_report(y_test, y_predict))\n",
    "print(\"precision in train set: \"+str(lr.score(X_train, y_train)))\n",
    "print(\"precision in test set: \"+str(lr.score(X_test, y_test)))\n",
    "\n",
    "results['LR'] = lr.score(X_test, y_test)"
   ]
  },
  {
   "cell_type": "markdown",
   "metadata": {},
   "source": [
    "SGDClassifier"
   ]
  },
  {
   "cell_type": "code",
   "execution_count": 20,
   "metadata": {},
   "outputs": [
    {
     "name": "stdout",
     "output_type": "stream",
     "text": [
      "              precision    recall  f1-score   support\n",
      "\n",
      "         1.0       0.23      0.54      0.32      1539\n",
      "         2.0       0.41      0.01      0.03      1624\n",
      "         3.0       0.47      0.06      0.10      1234\n",
      "         4.0       0.26      0.84      0.40      1766\n",
      "         5.0       0.37      0.03      0.06      1347\n",
      "         6.0       0.32      0.02      0.04      2784\n",
      "         7.0       0.21      0.55      0.30      1986\n",
      "         8.0       0.74      0.29      0.42      4829\n",
      "\n",
      "    accuracy                           0.29     17109\n",
      "   macro avg       0.37      0.29      0.21     17109\n",
      "weighted avg       0.43      0.29      0.25     17109\n",
      "\n",
      "precision in train set: 0.2991797689325306\n",
      "precision in test set: 0.29446490151382315\n"
     ]
    }
   ],
   "source": [
    "from sklearn.linear_model import SGDClassifier\n",
    "sgdc = SGDClassifier()\n",
    "sgdc.fit(X_train, y_train)\n",
    "y_predict = sgdc.predict(X_test)\n",
    "\n",
    "print(classification_report(y_test, y_predict))\n",
    "print(\"precision in train set: \"+str(sgdc.score(X_train, y_train)))\n",
    "print(\"precision in test set: \"+str(sgdc.score(X_test, y_test)))\n",
    "\n",
    "results['sgdc'] = sgdc.score(X_test, y_test)"
   ]
  },
  {
   "cell_type": "markdown",
   "metadata": {},
   "source": [
    "DecisionTree"
   ]
  },
  {
   "cell_type": "code",
   "execution_count": 21,
   "metadata": {},
   "outputs": [
    {
     "name": "stdout",
     "output_type": "stream",
     "text": [
      "              precision    recall  f1-score   support\n",
      "\n",
      "         1.0       0.20      0.19      0.19      1539\n",
      "         2.0       0.24      0.22      0.23      1624\n",
      "         3.0       0.80      0.98      0.88      1234\n",
      "         4.0       0.82      0.97      0.89      1766\n",
      "         5.0       0.39      0.36      0.38      1347\n",
      "         6.0       0.33      0.32      0.33      2784\n",
      "         7.0       0.30      0.29      0.30      1986\n",
      "         8.0       0.65      0.63      0.64      4829\n",
      "\n",
      "    accuracy                           0.50     17109\n",
      "   macro avg       0.47      0.50      0.48     17109\n",
      "weighted avg       0.49      0.50      0.49     17109\n",
      "\n",
      "precision in train set: 1.0\n",
      "precision in test set: 0.5013735460868549\n"
     ]
    }
   ],
   "source": [
    "from sklearn.tree import DecisionTreeClassifier\n",
    "\n",
    "tree = DecisionTreeClassifier()\n",
    "tree.fit(X_train, y_train)\n",
    "y_predict = tree.predict(X_test)\n",
    "\n",
    "print(classification_report(y_test, y_predict))\n",
    "print(\"precision in train set: \"+str(tree.score(X_train, y_train)))\n",
    "print(\"precision in test set: \"+str(tree.score(X_test, y_test)))\n",
    "\n",
    "results['DTree'] = tree.score(X_test, y_test)"
   ]
  },
  {
   "cell_type": "markdown",
   "metadata": {},
   "source": [
    "KNN"
   ]
  },
  {
   "cell_type": "code",
   "execution_count": 22,
   "metadata": {},
   "outputs": [
    {
     "name": "stdout",
     "output_type": "stream",
     "text": [
      "              precision    recall  f1-score   support\n",
      "\n",
      "         1.0       0.24      0.15      0.19      1539\n",
      "         2.0       0.22      0.12      0.15      1624\n",
      "         3.0       0.44      0.73      0.55      1234\n",
      "         4.0       0.43      0.77      0.55      1766\n",
      "         5.0       0.16      0.08      0.10      1347\n",
      "         6.0       0.25      0.18      0.21      2784\n",
      "         7.0       0.19      0.09      0.13      1986\n",
      "         8.0       0.45      0.60      0.51      4829\n",
      "\n",
      "    accuracy                           0.37     17109\n",
      "   macro avg       0.30      0.34      0.30     17109\n",
      "weighted avg       0.32      0.37      0.33     17109\n",
      "\n",
      "precision in train set: 0.5007695754671031\n",
      "precision in test set: 0.37208486761353676\n"
     ]
    }
   ],
   "source": [
    "from sklearn.neighbors import KNeighborsClassifier\n",
    "\n",
    "knn = KNeighborsClassifier(n_neighbors=8)\n",
    "\n",
    "knn.fit(X_train, y_train)\n",
    "y_predict = knn.predict(X_test)\n",
    "\n",
    "print(classification_report(y_test, y_predict))\n",
    "print(\"precision in train set: \"+str(knn.score(X_train, y_train)))\n",
    "print(\"precision in test set: \"+str(knn.score(X_test, y_test)))\n",
    "\n",
    "results['KNN'] = knn.score(X_test, y_test)"
   ]
  },
  {
   "cell_type": "markdown",
   "metadata": {},
   "source": [
    "XGBoost"
   ]
  },
  {
   "cell_type": "code",
   "execution_count": 23,
   "metadata": {},
   "outputs": [
    {
     "name": "stdout",
     "output_type": "stream",
     "text": [
      "              precision    recall  f1-score   support\n",
      "\n",
      "         1.0       0.46      0.17      0.25      1539\n",
      "         2.0       0.45      0.23      0.30      1624\n",
      "         3.0       0.58      0.36      0.44      1234\n",
      "         4.0       0.43      0.67      0.53      1766\n",
      "         5.0       0.56      0.47      0.51      1347\n",
      "         6.0       0.35      0.40      0.37      2784\n",
      "         7.0       0.43      0.33      0.37      1986\n",
      "         8.0       0.64      0.84      0.73      4829\n",
      "\n",
      "    accuracy                           0.51     17109\n",
      "   macro avg       0.49      0.43      0.44     17109\n",
      "weighted avg       0.50      0.51      0.49     17109\n",
      "\n",
      "precision in train set: 0.5261753073431138\n",
      "precision in test set: 0.5098486176865977\n"
     ]
    }
   ],
   "source": [
    "from xgboost import XGBClassifier\n",
    "xgbc = XGBClassifier()\n",
    "xgbc.fit(X_train, y_train)\n",
    "y_predict = xgbc.predict(X_test)\n",
    "\n",
    "print(classification_report(y_test, y_predict))\n",
    "print(\"precision in train set: \"+str(xgbc.score(X_train, y_train)))\n",
    "print(\"precision in test set: \"+str(xgbc.score(X_test, y_test)))\n",
    "\n",
    "results['XGBC'] = xgbc.score(X_test, y_test)"
   ]
  },
  {
   "cell_type": "markdown",
   "metadata": {},
   "source": [
    "12. Comparaison de modèles"
   ]
  },
  {
   "cell_type": "code",
   "execution_count": 27,
   "metadata": {},
   "outputs": [
    {
     "data": {
      "image/png": "[encoded data removed]",
      "text/plain": [
       "<Figure size 432x288 with 1 Axes>"
      ]
     },
     "metadata": {
      "needs_background": "light"
     },
     "output_type": "display_data"
    }
   ],
   "source": [
    "import matplotlib.pyplot as plt\n",
    "\n",
    "results.plot()\n",
    "\n",
    "plt.show()\n"
   ]
  },
  {
   "cell_type": "markdown",
   "metadata": {},
   "source": [
    "13. Grid Search"
   ]
  },
  {
   "cell_type": "code",
   "execution_count": 25,
   "metadata": {},
   "outputs": [
    {
     "name": "stdout",
     "output_type": "stream",
     "text": [
      "Fitting 5 folds for each of 384 candidates, totalling 1920 fits\n"
     ]
    },
    {
     "name": "stderr",
     "output_type": "stream",
     "text": [
      "[Parallel(n_jobs=-1)]: Using backend LokyBackend with 8 concurrent workers.\n"
     ]
    },
    {
     "ename": "KeyboardInterrupt",
     "evalue": "",
     "output_type": "error",
     "traceback": [
      "\u001b[0;31m---------------------------------------------------------------------------\u001b[0m",
      "\u001b[0;31mKeyboardInterrupt\u001b[0m                         Traceback (most recent call last)",
      "\u001b[0;32m<ipython-input-25-8e75e831369b>\u001b[0m in \u001b[0;36m<module>\u001b[0;34m\u001b[0m\n\u001b[1;32m     11\u001b[0m \u001b[0;31m# Grid Search pour trouver les paramètres optimaux\u001b[0m\u001b[0;34m\u001b[0m\u001b[0;34m\u001b[0m\u001b[0;34m\u001b[0m\u001b[0m\n\u001b[1;32m     12\u001b[0m \u001b[0mgs\u001b[0m \u001b[0;34m=\u001b[0m \u001b[0mGridSearchCV\u001b[0m\u001b[0;34m(\u001b[0m\u001b[0mgbc\u001b[0m\u001b[0;34m,\u001b[0m \u001b[0mparams\u001b[0m\u001b[0;34m,\u001b[0m \u001b[0mn_jobs\u001b[0m\u001b[0;34m=\u001b[0m\u001b[0;34m-\u001b[0m\u001b[0;36m1\u001b[0m\u001b[0;34m,\u001b[0m \u001b[0mcv\u001b[0m\u001b[0;34m=\u001b[0m\u001b[0;36m5\u001b[0m\u001b[0;34m,\u001b[0m \u001b[0mverbose\u001b[0m\u001b[0;34m=\u001b[0m\u001b[0;36m1\u001b[0m\u001b[0;34m)\u001b[0m\u001b[0;34m\u001b[0m\u001b[0;34m\u001b[0m\u001b[0m\n\u001b[0;32m---> 13\u001b[0;31m \u001b[0mgs\u001b[0m\u001b[0;34m.\u001b[0m\u001b[0mfit\u001b[0m\u001b[0;34m(\u001b[0m\u001b[0mX_train\u001b[0m\u001b[0;34m,\u001b[0m \u001b[0my_train\u001b[0m\u001b[0;34m)\u001b[0m\u001b[0;34m\u001b[0m\u001b[0;34m\u001b[0m\u001b[0m\n\u001b[0m\u001b[1;32m     14\u001b[0m \u001b[0;34m\u001b[0m\u001b[0m\n\u001b[1;32m     15\u001b[0m \u001b[0mprint\u001b[0m\u001b[0;34m(\u001b[0m\u001b[0mgs\u001b[0m\u001b[0;34m.\u001b[0m\u001b[0mbest_score_\u001b[0m\u001b[0;34m)\u001b[0m\u001b[0;34m\u001b[0m\u001b[0;34m\u001b[0m\u001b[0m\n",
      "\u001b[0;32m/usr/local/lib/python3.7/site-packages/sklearn/model_selection/_search.py\u001b[0m in \u001b[0;36mfit\u001b[0;34m(self, X, y, groups, **fit_params)\u001b[0m\n\u001b[1;32m    686\u001b[0m                 \u001b[0;32mreturn\u001b[0m \u001b[0mresults\u001b[0m\u001b[0;34m\u001b[0m\u001b[0;34m\u001b[0m\u001b[0m\n\u001b[1;32m    687\u001b[0m \u001b[0;34m\u001b[0m\u001b[0m\n\u001b[0;32m--> 688\u001b[0;31m             \u001b[0mself\u001b[0m\u001b[0;34m.\u001b[0m\u001b[0m_run_search\u001b[0m\u001b[0;34m(\u001b[0m\u001b[0mevaluate_candidates\u001b[0m\u001b[0;34m)\u001b[0m\u001b[0;34m\u001b[0m\u001b[0;34m\u001b[0m\u001b[0m\n\u001b[0m\u001b[1;32m    689\u001b[0m \u001b[0;34m\u001b[0m\u001b[0m\n\u001b[1;32m    690\u001b[0m         \u001b[0;31m# For multi-metric evaluation, store the best_index_, best_params_ and\u001b[0m\u001b[0;34m\u001b[0m\u001b[0;34m\u001b[0m\u001b[0;34m\u001b[0m\u001b[0m\n",
      "\u001b[0;32m/usr/local/lib/python3.7/site-packages/sklearn/model_selection/_search.py\u001b[0m in \u001b[0;36m_run_search\u001b[0;34m(self, evaluate_candidates)\u001b[0m\n\u001b[1;32m   1147\u001b[0m     \u001b[0;32mdef\u001b[0m \u001b[0m_run_search\u001b[0m\u001b[0;34m(\u001b[0m\u001b[0mself\u001b[0m\u001b[0;34m,\u001b[0m \u001b[0mevaluate_candidates\u001b[0m\u001b[0;34m)\u001b[0m\u001b[0;34m:\u001b[0m\u001b[0;34m\u001b[0m\u001b[0;34m\u001b[0m\u001b[0m\n\u001b[1;32m   1148\u001b[0m         \u001b[0;34m\"\"\"Search all candidates in param_grid\"\"\"\u001b[0m\u001b[0;34m\u001b[0m\u001b[0;34m\u001b[0m\u001b[0m\n\u001b[0;32m-> 1149\u001b[0;31m         \u001b[0mevaluate_candidates\u001b[0m\u001b[0;34m(\u001b[0m\u001b[0mParameterGrid\u001b[0m\u001b[0;34m(\u001b[0m\u001b[0mself\u001b[0m\u001b[0;34m.\u001b[0m\u001b[0mparam_grid\u001b[0m\u001b[0;34m)\u001b[0m\u001b[0;34m)\u001b[0m\u001b[0;34m\u001b[0m\u001b[0;34m\u001b[0m\u001b[0m\n\u001b[0m\u001b[1;32m   1150\u001b[0m \u001b[0;34m\u001b[0m\u001b[0m\n\u001b[1;32m   1151\u001b[0m \u001b[0;34m\u001b[0m\u001b[0m\n",
      "\u001b[0;32m/usr/local/lib/python3.7/site-packages/sklearn/model_selection/_search.py\u001b[0m in \u001b[0;36mevaluate_candidates\u001b[0;34m(candidate_params)\u001b[0m\n\u001b[1;32m    665\u001b[0m                                \u001b[0;32mfor\u001b[0m \u001b[0mparameters\u001b[0m\u001b[0;34m,\u001b[0m \u001b[0;34m(\u001b[0m\u001b[0mtrain\u001b[0m\u001b[0;34m,\u001b[0m \u001b[0mtest\u001b[0m\u001b[0;34m)\u001b[0m\u001b[0;34m\u001b[0m\u001b[0;34m\u001b[0m\u001b[0m\n\u001b[1;32m    666\u001b[0m                                in product(candidate_params,\n\u001b[0;32m--> 667\u001b[0;31m                                           cv.split(X, y, groups)))\n\u001b[0m\u001b[1;32m    668\u001b[0m \u001b[0;34m\u001b[0m\u001b[0m\n\u001b[1;32m    669\u001b[0m                 \u001b[0;32mif\u001b[0m \u001b[0mlen\u001b[0m\u001b[0;34m(\u001b[0m\u001b[0mout\u001b[0m\u001b[0;34m)\u001b[0m \u001b[0;34m<\u001b[0m \u001b[0;36m1\u001b[0m\u001b[0;34m:\u001b[0m\u001b[0;34m\u001b[0m\u001b[0;34m\u001b[0m\u001b[0m\n",
      "\u001b[0;32m/usr/local/lib/python3.7/site-packages/joblib/parallel.py\u001b[0m in \u001b[0;36m__call__\u001b[0;34m(self, iterable)\u001b[0m\n\u001b[1;32m   1014\u001b[0m \u001b[0;34m\u001b[0m\u001b[0m\n\u001b[1;32m   1015\u001b[0m             \u001b[0;32mwith\u001b[0m \u001b[0mself\u001b[0m\u001b[0;34m.\u001b[0m\u001b[0m_backend\u001b[0m\u001b[0;34m.\u001b[0m\u001b[0mretrieval_context\u001b[0m\u001b[0;34m(\u001b[0m\u001b[0;34m)\u001b[0m\u001b[0;34m:\u001b[0m\u001b[0;34m\u001b[0m\u001b[0;34m\u001b[0m\u001b[0m\n\u001b[0;32m-> 1016\u001b[0;31m                 \u001b[0mself\u001b[0m\u001b[0;34m.\u001b[0m\u001b[0mretrieve\u001b[0m\u001b[0;34m(\u001b[0m\u001b[0;34m)\u001b[0m\u001b[0;34m\u001b[0m\u001b[0;34m\u001b[0m\u001b[0m\n\u001b[0m\u001b[1;32m   1017\u001b[0m             \u001b[0;31m# Make sure that we get a last message telling us we are done\u001b[0m\u001b[0;34m\u001b[0m\u001b[0;34m\u001b[0m\u001b[0;34m\u001b[0m\u001b[0m\n\u001b[1;32m   1018\u001b[0m             \u001b[0melapsed_time\u001b[0m \u001b[0;34m=\u001b[0m \u001b[0mtime\u001b[0m\u001b[0;34m.\u001b[0m\u001b[0mtime\u001b[0m\u001b[0;34m(\u001b[0m\u001b[0;34m)\u001b[0m \u001b[0;34m-\u001b[0m \u001b[0mself\u001b[0m\u001b[0;34m.\u001b[0m\u001b[0m_start_time\u001b[0m\u001b[0;34m\u001b[0m\u001b[0;34m\u001b[0m\u001b[0m\n",
      "\u001b[0;32m/usr/local/lib/python3.7/site-packages/joblib/parallel.py\u001b[0m in \u001b[0;36mretrieve\u001b[0;34m(self)\u001b[0m\n\u001b[1;32m    906\u001b[0m             \u001b[0;32mtry\u001b[0m\u001b[0;34m:\u001b[0m\u001b[0;34m\u001b[0m\u001b[0;34m\u001b[0m\u001b[0m\n\u001b[1;32m    907\u001b[0m                 \u001b[0;32mif\u001b[0m \u001b[0mgetattr\u001b[0m\u001b[0;34m(\u001b[0m\u001b[0mself\u001b[0m\u001b[0;34m.\u001b[0m\u001b[0m_backend\u001b[0m\u001b[0;34m,\u001b[0m \u001b[0;34m'supports_timeout'\u001b[0m\u001b[0;34m,\u001b[0m \u001b[0;32mFalse\u001b[0m\u001b[0;34m)\u001b[0m\u001b[0;34m:\u001b[0m\u001b[0;34m\u001b[0m\u001b[0;34m\u001b[0m\u001b[0m\n\u001b[0;32m--> 908\u001b[0;31m                     \u001b[0mself\u001b[0m\u001b[0;34m.\u001b[0m\u001b[0m_output\u001b[0m\u001b[0;34m.\u001b[0m\u001b[0mextend\u001b[0m\u001b[0;34m(\u001b[0m\u001b[0mjob\u001b[0m\u001b[0;34m.\u001b[0m\u001b[0mget\u001b[0m\u001b[0;34m(\u001b[0m\u001b[0mtimeout\u001b[0m\u001b[0;34m=\u001b[0m\u001b[0mself\u001b[0m\u001b[0;34m.\u001b[0m\u001b[0mtimeout\u001b[0m\u001b[0;34m)\u001b[0m\u001b[0;34m)\u001b[0m\u001b[0;34m\u001b[0m\u001b[0;34m\u001b[0m\u001b[0m\n\u001b[0m\u001b[1;32m    909\u001b[0m                 \u001b[0;32melse\u001b[0m\u001b[0;34m:\u001b[0m\u001b[0;34m\u001b[0m\u001b[0;34m\u001b[0m\u001b[0m\n\u001b[1;32m    910\u001b[0m                     \u001b[0mself\u001b[0m\u001b[0;34m.\u001b[0m\u001b[0m_output\u001b[0m\u001b[0;34m.\u001b[0m\u001b[0mextend\u001b[0m\u001b[0;34m(\u001b[0m\u001b[0mjob\u001b[0m\u001b[0;34m.\u001b[0m\u001b[0mget\u001b[0m\u001b[0;34m(\u001b[0m\u001b[0;34m)\u001b[0m\u001b[0;34m)\u001b[0m\u001b[0;34m\u001b[0m\u001b[0;34m\u001b[0m\u001b[0m\n",
      "\u001b[0;32m/usr/local/lib/python3.7/site-packages/joblib/_parallel_backends.py\u001b[0m in \u001b[0;36mwrap_future_result\u001b[0;34m(future, timeout)\u001b[0m\n\u001b[1;32m    552\u001b[0m         AsyncResults.get from multiprocessing.\"\"\"\n\u001b[1;32m    553\u001b[0m         \u001b[0;32mtry\u001b[0m\u001b[0;34m:\u001b[0m\u001b[0;34m\u001b[0m\u001b[0;34m\u001b[0m\u001b[0m\n\u001b[0;32m--> 554\u001b[0;31m             \u001b[0;32mreturn\u001b[0m \u001b[0mfuture\u001b[0m\u001b[0;34m.\u001b[0m\u001b[0mresult\u001b[0m\u001b[0;34m(\u001b[0m\u001b[0mtimeout\u001b[0m\u001b[0;34m=\u001b[0m\u001b[0mtimeout\u001b[0m\u001b[0;34m)\u001b[0m\u001b[0;34m\u001b[0m\u001b[0;34m\u001b[0m\u001b[0m\n\u001b[0m\u001b[1;32m    555\u001b[0m         \u001b[0;32mexcept\u001b[0m \u001b[0mLokyTimeoutError\u001b[0m\u001b[0;34m:\u001b[0m\u001b[0;34m\u001b[0m\u001b[0;34m\u001b[0m\u001b[0m\n\u001b[1;32m    556\u001b[0m             \u001b[0;32mraise\u001b[0m \u001b[0mTimeoutError\u001b[0m\u001b[0;34m(\u001b[0m\u001b[0;34m)\u001b[0m\u001b[0;34m\u001b[0m\u001b[0;34m\u001b[0m\u001b[0m\n",
      "\u001b[0;32m/usr/local/Cellar/python/3.7.6_1/Frameworks/Python.framework/Versions/3.7/lib/python3.7/concurrent/futures/_base.py\u001b[0m in \u001b[0;36mresult\u001b[0;34m(self, timeout)\u001b[0m\n\u001b[1;32m    428\u001b[0m                 \u001b[0;32mreturn\u001b[0m \u001b[0mself\u001b[0m\u001b[0;34m.\u001b[0m\u001b[0m__get_result\u001b[0m\u001b[0;34m(\u001b[0m\u001b[0;34m)\u001b[0m\u001b[0;34m\u001b[0m\u001b[0;34m\u001b[0m\u001b[0m\n\u001b[1;32m    429\u001b[0m \u001b[0;34m\u001b[0m\u001b[0m\n\u001b[0;32m--> 430\u001b[0;31m             \u001b[0mself\u001b[0m\u001b[0;34m.\u001b[0m\u001b[0m_condition\u001b[0m\u001b[0;34m.\u001b[0m\u001b[0mwait\u001b[0m\u001b[0;34m(\u001b[0m\u001b[0mtimeout\u001b[0m\u001b[0;34m)\u001b[0m\u001b[0;34m\u001b[0m\u001b[0;34m\u001b[0m\u001b[0m\n\u001b[0m\u001b[1;32m    431\u001b[0m \u001b[0;34m\u001b[0m\u001b[0m\n\u001b[1;32m    432\u001b[0m             \u001b[0;32mif\u001b[0m \u001b[0mself\u001b[0m\u001b[0;34m.\u001b[0m\u001b[0m_state\u001b[0m \u001b[0;32min\u001b[0m \u001b[0;34m[\u001b[0m\u001b[0mCANCELLED\u001b[0m\u001b[0;34m,\u001b[0m \u001b[0mCANCELLED_AND_NOTIFIED\u001b[0m\u001b[0;34m]\u001b[0m\u001b[0;34m:\u001b[0m\u001b[0;34m\u001b[0m\u001b[0;34m\u001b[0m\u001b[0m\n",
      "\u001b[0;32m/usr/local/Cellar/python/3.7.6_1/Frameworks/Python.framework/Versions/3.7/lib/python3.7/threading.py\u001b[0m in \u001b[0;36mwait\u001b[0;34m(self, timeout)\u001b[0m\n\u001b[1;32m    294\u001b[0m         \u001b[0;32mtry\u001b[0m\u001b[0;34m:\u001b[0m    \u001b[0;31m# restore state no matter what (e.g., KeyboardInterrupt)\u001b[0m\u001b[0;34m\u001b[0m\u001b[0;34m\u001b[0m\u001b[0m\n\u001b[1;32m    295\u001b[0m             \u001b[0;32mif\u001b[0m \u001b[0mtimeout\u001b[0m \u001b[0;32mis\u001b[0m \u001b[0;32mNone\u001b[0m\u001b[0;34m:\u001b[0m\u001b[0;34m\u001b[0m\u001b[0;34m\u001b[0m\u001b[0m\n\u001b[0;32m--> 296\u001b[0;31m                 \u001b[0mwaiter\u001b[0m\u001b[0;34m.\u001b[0m\u001b[0macquire\u001b[0m\u001b[0;34m(\u001b[0m\u001b[0;34m)\u001b[0m\u001b[0;34m\u001b[0m\u001b[0;34m\u001b[0m\u001b[0m\n\u001b[0m\u001b[1;32m    297\u001b[0m                 \u001b[0mgotit\u001b[0m \u001b[0;34m=\u001b[0m \u001b[0;32mTrue\u001b[0m\u001b[0;34m\u001b[0m\u001b[0;34m\u001b[0m\u001b[0m\n\u001b[1;32m    298\u001b[0m             \u001b[0;32melse\u001b[0m\u001b[0;34m:\u001b[0m\u001b[0;34m\u001b[0m\u001b[0;34m\u001b[0m\u001b[0m\n",
      "\u001b[0;31mKeyboardInterrupt\u001b[0m: "
     ]
    }
   ],
   "source": [
    "from sklearn.model_selection import GridSearchCV\n",
    "\n",
    "params = {'max_depth': range(3, 10, 2), 'n_estimators': range(20, 51, 10),\n",
    "          'min_samples_split': range(800, 1600, 200), 'min_samples_leaf': range(60, 70, 10),\n",
    "          'learning_rate': [0.05, 0.1, 0.15, 0.2, 0.25, 0.3]}\n",
    "\n",
    "from sklearn.ensemble import GradientBoostingClassifier\n",
    "\n",
    "gbc = GradientBoostingClassifier()\n",
    "\n",
    "# Grid Search pour trouver les paramètres optimaux\n",
    "gs = GridSearchCV(gbc, params, n_jobs=-1, cv=5, verbose=1)\n",
    "gs.fit(X_train, y_train)\n",
    "\n",
    "print(gs.best_score_)\n",
    "print(gs.best_params_)\n",
    "\n",
    "y_predict = gs.predict(X_test)\n",
    "\n",
    "print(\"precision in train set: \"+str(gs.score(X_train, y_train)))\n",
    "print(\"precision in test set: \"+str(gs.score(X_test, y_test)))\n",
    "\n",
    "print(classification_report(y_test, y_predict))"
   ]
  },
  {
   "cell_type": "markdown",
   "metadata": {},
   "source": [
    "14. Former le modèle sur toutes les données & Générer des résultats de prédiction"
   ]
  },
  {
   "cell_type": "code",
   "execution_count": null,
   "metadata": {},
   "outputs": [],
   "source": [
    "gbc = GradientBoostingClassifier(learning_rate=0.01, n_estimators=1200, max_depth=7, min_samples_leaf=60,\n",
    "                                 min_samples_split=1200)\n",
    "\n",
    "gbc.fit(digits_data, digits_target)\n",
    "y_predict = gbc.predict(predict)\n",
    "\n",
    "out_put = pd.DataFrame({\"Response\": y_predict})\n",
    "\n",
    "print(out_put)\n",
    "out_put.to_csv('submission.csv')"
   ]
  },
  {
   "cell_type": "code",
   "execution_count": null,
   "metadata": {},
   "outputs": [],
   "source": []
  }
 ],
 "metadata": {
  "kernelspec": {
   "display_name": "Python 3",
   "language": "python",
   "name": "python3"
  },
  "language_info": {
   "codemirror_mode": {
    "name": "ipython",
    "version": 3
   },
   "file_extension": ".py",
   "mimetype": "text/x-python",
   "name": "python",
   "nbconvert_exporter": "python",
   "pygments_lexer": "ipython3",
   "version": "3.7.6"
  }
 },
 "nbformat": 4,
 "nbformat_minor": 2
}
